{
 "cells": [
  {
   "cell_type": "code",
   "execution_count": 1,
   "metadata": {},
   "outputs": [
    {
     "name": "stdout",
     "output_type": "stream",
     "text": [
      "2023-07-07 09:31:26\n"
     ]
    }
   ],
   "source": [
    "%load_ext autoreload\n",
    "%autoreload 2\n",
    "from benchmark.preprocess import *\n",
    "from benchmark.constants import *\n",
    "from benchmark.db_import import *\n",
    "from benchmark.ground_truth import *\n",
    "from benchmark.construct_threatrace_graph import *\n",
    "from benchmark.threatrace import *\n",
    "import logging \n",
    "from torch_geometric import seed_everything\n",
    "import os\n",
    "import configparser\n",
    "logging.basicConfig(\n",
    "    format='%(asctime)s - %(levelname)s - %(message)s',\n",
    "    level=logging.INFO,\n",
    "    filename='app.log',\n",
    "    #filemode='w'\n",
    "    filemode='a',\n",
    ")\n",
    "logging.info('This will get logged to a file')"
   ]
  },
  {
   "cell_type": "code",
   "execution_count": 2,
   "metadata": {},
   "outputs": [
    {
     "name": "stdout",
     "output_type": "stream",
     "text": [
      "Current project directory: /Users/robinbuchta/Documents/GitHub/gnn_testenv/notebooks\n"
     ]
    }
   ],
   "source": [
    "project_dir = os.getcwd()\n",
    "print(\"Current project directory:\", project_dir)"
   ]
  },
  {
   "cell_type": "code",
   "execution_count": 3,
   "metadata": {},
   "outputs": [
    {
     "data": {
      "text/plain": [
       "['../configs/eng3/cadets/cadets_03_record.ini']"
      ]
     },
     "execution_count": 3,
     "metadata": {},
     "output_type": "execute_result"
    }
   ],
   "source": [
    "# Read config file\n",
    "config_dir = \"../configs\"\n",
    "config_file_record_03 = config_dir + '/eng3/cadets/cadets_03_record.ini'\n",
    "config_rec3 = configparser.ConfigParser()\n",
    "config_rec3.read(config_file_record_03)\n"
   ]
  },
  {
   "cell_type": "code",
   "execution_count": 4,
   "metadata": {},
   "outputs": [],
   "source": [
    "# read tar file and extract to a folder + preprocess\n",
    "process_darpa_data(config_rec3)"
   ]
  },
  {
   "cell_type": "code",
   "execution_count": 5,
   "metadata": {},
   "outputs": [],
   "source": [
    "#setup and import data to mariaDB \n",
    "import_nodes_and_edges(config_rec3)"
   ]
  },
  {
   "cell_type": "code",
   "execution_count": 6,
   "metadata": {},
   "outputs": [
    {
     "name": "stdout",
     "output_type": "stream",
     "text": [
      "Data(x=[244917, 56], edge_index=[2, 2900550], y=[244917], train_mask=[244917], test_mask=[244917])\n",
      "Data(x=[574338, 56], edge_index=[2, 7375768], y=[574338], train_mask=[574338], test_mask=[574338])\n"
     ]
    }
   ],
   "source": [
    "# create train and test data\n",
    "mypygdata = MyPyGDataset(config_rec3, own_timestamp_percent=40, extension=\"40percentTrain\") # 4min\n",
    "data_train = mypygdata[0][0]\n",
    "data_test = mypygdata[0][1]\n",
    "print(data_train)\n",
    "print(data_test)"
   ]
  },
  {
   "cell_type": "code",
   "execution_count": 7,
   "metadata": {},
   "outputs": [],
   "source": [
    "yaml_data = read_gt_yaml(config_rec3)"
   ]
  },
  {
   "cell_type": "code",
   "execution_count": 8,
   "metadata": {},
   "outputs": [],
   "source": [
    "date, start_ts, end_ts = extract_time_information(yaml_data)"
   ]
  },
  {
   "cell_type": "code",
   "execution_count": 9,
   "metadata": {},
   "outputs": [],
   "source": [
    "# create ground truth\n",
    "gt_file1 = config_rec3['Files']['ground_truth'] # -> special case for record3, because here 2 attacks are given \n",
    "gt_file2 = config_rec3['Files']['ground_truth1'] # -> special case for record3, because here 2 attacks are given \n",
    "gts = [gt_file1, gt_file2]\n",
    "gt = get_atk_nodes_for_evaluation(config_rec3, multi=True, gts=gts)"
   ]
  },
  {
   "cell_type": "code",
   "execution_count": 10,
   "metadata": {},
   "outputs": [],
   "source": [
    "# create threatrace GNN anomaly detection Pipeline\n",
    "ttp = ThreaTracePipeline(config_rec3, data_train, data_test)"
   ]
  },
  {
   "cell_type": "code",
   "execution_count": 11,
   "metadata": {},
   "outputs": [
    {
     "name": "stdout",
     "output_type": "stream",
     "text": [
      "1 16.098896026611328 0.03909487703997681 2023-07-07 09:34:56\n",
      "2 14.669391632080078 0.041781501488259286 2023-07-07 09:34:57\n",
      "3 19.017498016357422 0.13493550876419358 2023-07-07 09:34:58\n",
      "4 19.12422752380371 0.13756088797429333 2023-07-07 09:35:00\n",
      "5 18.932720184326172 0.1463107910026662 2023-07-07 09:35:01\n",
      "6 26.15119743347168 0.1549790337134621 2023-07-07 09:35:02\n",
      "7 15.833759307861328 0.15643667038221112 2023-07-07 09:35:03\n",
      "8 33.271461486816406 0.15728593768501165 2023-07-07 09:35:04\n",
      "9 17.07430076599121 0.1585965857821221 2023-07-07 09:35:06\n",
      "10 13.842123031616211 0.1620630662632647 2023-07-07 09:35:07\n",
      "11 9.741694450378418 0.16131179134155652 2023-07-07 09:35:08\n",
      "12 22.50615692138672 0.18424200851717112 2023-07-07 09:35:09\n",
      "13 17.80123519897461 0.20311370790921007 2023-07-07 09:35:10\n",
      "14 24.613996505737305 0.20334643981430445 2023-07-07 09:35:11\n",
      "15 16.032833099365234 0.20425286933940887 2023-07-07 09:35:12\n",
      "16 17.58094596862793 0.20936888823560634 2023-07-07 09:35:13\n",
      "17 9.016636848449707 0.21077752871380917 2023-07-07 09:35:14\n",
      "18 13.229292869567871 0.20900958283826765 2023-07-07 09:35:16\n",
      "19 19.30511474609375 0.2153382574504832 2023-07-07 09:35:17\n",
      "20 13.015594482421875 0.21589354761000665 2023-07-07 09:35:18\n",
      "21 15.476771354675293 0.23884009684913665 2023-07-07 09:35:19\n",
      "22 10.514327049255371 0.24050596732770693 2023-07-07 09:35:20\n",
      "23 12.884900093078613 0.2413919817734171 2023-07-07 09:35:21\n",
      "24 11.21529769897461 0.24190644177415205 2023-07-07 09:35:22\n",
      "25 9.093003273010254 0.2445889832065557 2023-07-07 09:35:23\n",
      "26 7.562460422515869 0.24631201590742988 2023-07-07 09:35:24\n",
      "27 15.984813690185547 0.24692038527337834 2023-07-07 09:35:26\n",
      "28 17.49104118347168 0.2529632487740745 2023-07-07 09:35:27\n",
      "29 6.374330997467041 0.3154252256887027 2023-07-07 09:35:28\n",
      "New Round\n",
      "false_classified, true_classified\n",
      "205993 38924\n",
      "Model saved loop_num: 0 2023-07-07 09:35:36\n",
      "New Round\n",
      "false_classified, true_classified\n",
      "18596 187397\n",
      "Model saved loop_num: 1 2023-07-07 09:35:58\n",
      "New Round\n",
      "false_classified, true_classified\n",
      "7152 11444\n",
      "Model saved loop_num: 2 2023-07-07 09:36:06\n",
      "New Round\n",
      "false_classified, true_classified\n",
      "2309 4843\n",
      "Model saved loop_num: 3 2023-07-07 09:36:08\n",
      "New Round\n",
      "false_classified, true_classified\n",
      "672 1637\n",
      "Model saved loop_num: 4 2023-07-07 09:36:09\n",
      "New Round\n",
      "false_classified, true_classified\n",
      "301 371\n",
      "Model saved loop_num: 5 2023-07-07 09:36:10\n",
      "New Round\n",
      "false_classified, true_classified\n",
      "114 187\n",
      "Model saved loop_num: 6 2023-07-07 09:36:10\n",
      "New Round\n",
      "false_classified, true_classified\n",
      "33 81\n",
      "Model saved loop_num: 7 2023-07-07 09:36:11\n",
      "New Round\n",
      "false_classified, true_classified\n",
      "18 15\n",
      "Model saved loop_num: 8 2023-07-07 09:36:11\n",
      "New Round\n",
      "false_classified, true_classified\n",
      "7 11\n",
      "Model saved loop_num: 9 2023-07-07 09:36:11\n"
     ]
    }
   ],
   "source": [
    "#ttp.delete_old_models()\n",
    "ttp.pretraining()\n",
    "ttp.multi_model_training()"
   ]
  },
  {
   "cell_type": "code",
   "execution_count": 12,
   "metadata": {},
   "outputs": [
    {
     "name": "stdout",
     "output_type": "stream",
     "text": [
      "##############################################################################################################\n",
      "own evaluation\n",
      "##############################################################################################################\n",
      "Loop_num: 0  Accuracy:0.1404  true_classified:80628  false_classified:493710\n",
      "Loop_num: 1  Accuracy:0.7654  true_classified:439626  false_classified:134712\n",
      "Loop_num: 2  Accuracy:0.0604  true_classified:34674  false_classified:539664\n",
      "Loop_num: 3  Accuracy:0.0389  true_classified:22353  false_classified:551985\n",
      "Loop_num: 4  Accuracy:0.0451  true_classified:25882  false_classified:548456\n",
      "Loop_num: 5  Accuracy:0.0772  true_classified:44337  false_classified:530001\n",
      "Loop_num: 6  Accuracy:0.0712  true_classified:40887  false_classified:533451\n",
      "Loop_num: 7  Accuracy:0.1761  true_classified:101134  false_classified:473204\n",
      "Loop_num: 8  Accuracy:0.0258  true_classified:14802  false_classified:559536\n",
      "Loop_num: 9  Accuracy:0.0624  true_classified:35866  false_classified:538472\n",
      "Loop_num: 10  Accuracy:0.7178  true_classified:412282  false_classified:162056\n",
      "Loop_num: 11  Accuracy:0.2304  true_classified:132301  false_classified:442037\n",
      "Unique Count of data_flow.y:  (tensor([0, 1, 2, 3, 4, 5]), tensor([133448,  43080, 374521,  12657,  10510,    122]))\n",
      "Unique Count of pred: (tensor([False,  True]), tensor([574270,     68]))\n"
     ]
    }
   ],
   "source": [
    "print(\"##############################################################################################################\")\n",
    "print(\"own evaluation\")\n",
    "print(\"##############################################################################################################\")\n",
    "ttp.reinit_test_data() \n",
    "ttp.test_model_performance() \n"
   ]
  },
  {
   "cell_type": "code",
   "execution_count": 13,
   "metadata": {},
   "outputs": [
    {
     "name": "stdout",
     "output_type": "stream",
     "text": [
      "##############################################################################################################\n",
      "2 HOP\n",
      "{'tn': 574338}\n",
      "start\n",
      "{'tn': 574338}\n",
      "set every node in gt to fn\n",
      "{'fn': 25049, 'tn': 549289}\n",
      "gt\n",
      "{'fn': 25049, 'tn': 549289}\n"
     ]
    },
    {
     "name": "stderr",
     "output_type": "stream",
     "text": [
      "100%|██████████| 68/68 [00:01<00:00, 61.80it/s]\n"
     ]
    },
    {
     "name": "stdout",
     "output_type": "stream",
     "text": [
      "{'fn': 20819, 'tn': 549289, 'tp': 4230}\n",
      "Intersection Counter: 61\n",
      "574338\n",
      "4230 0 549289 20819\n",
      "TP: 4230, FP: 0, TN: 549289, FN: 20819\n",
      "Precision:  0.9999999999999764\n",
      "Recall:  0.168869016727214\n",
      "F-Score:  0.2889442945208568\n",
      "Accuracy:  0.9637513102040959\n"
     ]
    }
   ],
   "source": [
    "print(\"##############################################################################################################\")\n",
    "print(\"2 HOP\")\n",
    "hits = ttp.evaluation(gt)"
   ]
  },
  {
   "cell_type": "code",
   "execution_count": 14,
   "metadata": {},
   "outputs": [
    {
     "name": "stdout",
     "output_type": "stream",
     "text": [
      "Get Detection Insights\n",
      "Unique Count of data_flow.y:  (tensor([0, 1, 2, 3, 4, 5]), tensor([133448,  43080, 374521,  12657,  10510,    122]))\n",
      "Unique Count of pred: (tensor([False,  True]), tensor([574270,     68]))\n",
      "Unique Count of filtered_tensor: (tensor([0, 1, 2, 3, 4, 5]), tensor([ 1, 18, 15, 26,  1,  7]))\n"
     ]
    }
   ],
   "source": [
    "x = ttp.get_detection_insights()"
   ]
  }
 ],
 "metadata": {
  "kernelspec": {
   "display_name": "pyg3",
   "language": "python",
   "name": "python3"
  },
  "language_info": {
   "codemirror_mode": {
    "name": "ipython",
    "version": 3
   },
   "file_extension": ".py",
   "mimetype": "text/x-python",
   "name": "python",
   "nbconvert_exporter": "python",
   "pygments_lexer": "ipython3",
   "version": "3.11.3"
  },
  "orig_nbformat": 4
 },
 "nbformat": 4,
 "nbformat_minor": 2
}

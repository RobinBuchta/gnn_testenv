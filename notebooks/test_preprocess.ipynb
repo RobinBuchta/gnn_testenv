{
 "cells": [
  {
   "cell_type": "code",
   "execution_count": 1,
   "metadata": {},
   "outputs": [],
   "source": [
    "%load_ext autoreload\n",
    "%autoreload 2\n",
    "from benchmark.utils import *\n",
    "from benchmark.preprocess import *\n",
    "from benchmark.constants import *\n",
    "from benchmark.db_import import *\n",
    "from benchmark.ground_truth import *\n",
    "import logging\n",
    "#from benchmark import sql_api\n",
    "import configparser\n",
    "logging.basicConfig(\n",
    "    format='%(asctime)s - %(levelname)s - %(message)s',\n",
    "    level=logging.INFO,\n",
    "    filename='app.log',\n",
    "    #filemode='w'\n",
    "    filemode='a',\n",
    ")\n",
    "logging.info('This will get logged to a file')"
   ]
  },
  {
   "cell_type": "code",
   "execution_count": 2,
   "metadata": {},
   "outputs": [
    {
     "data": {
      "text/plain": [
       "['/Users/robinbuchta/Documents/GitHub/trustathsh/projekte/secder/Fachliches/darpa_benchmark_lite_sql/configs/eng3/cadets/cadets_01_record.ini']"
      ]
     },
     "execution_count": 2,
     "metadata": {},
     "output_type": "execute_result"
    }
   ],
   "source": [
    "\n",
    "config_dir = \"/Users/robinbuchta/Documents/GitHub/trustathsh/projekte/secder/Fachliches/darpa_benchmark_lite_sql/configs\"\n",
    "config_file_record_01 = config_dir + '/eng3/cadets/cadets_01_record.ini'\n",
    "config = configparser.ConfigParser()\n",
    "config.read(config_file_record_01)"
   ]
  },
  {
   "cell_type": "code",
   "execution_count": 3,
   "metadata": {},
   "outputs": [],
   "source": [
    "import_nodes(config)"
   ]
  },
  {
   "cell_type": "code",
   "execution_count": 4,
   "metadata": {},
   "outputs": [],
   "source": [
    "import_edges(config)"
   ]
  },
  {
   "cell_type": "code",
   "execution_count": 3,
   "metadata": {},
   "outputs": [],
   "source": [
    "input_file = config['Files']['tar']\n",
    "output_dir = config['Directories']['output']\n",
    "unzipped_dir = config['Directories']['unzipped']"
   ]
  },
  {
   "cell_type": "code",
   "execution_count": 23,
   "metadata": {},
   "outputs": [
    {
     "name": "stdout",
     "output_type": "stream",
     "text": [
      "/Users/robinbuchta/Documents/DARPA/cadets/01_record/output/\n"
     ]
    }
   ],
   "source": [
    "print(output_dir)"
   ]
  },
  {
   "cell_type": "code",
   "execution_count": 4,
   "metadata": {},
   "outputs": [],
   "source": [
    "#create folder, if not exists\n",
    "if not os.path.exists(output_dir):\n",
    "    os.makedirs(output_dir)\n",
    "    logging.info(f'Created output folder {output_dir}')"
   ]
  },
  {
   "cell_type": "code",
   "execution_count": 5,
   "metadata": {},
   "outputs": [],
   "source": [
    "# unzip tar.gz file\n",
    "unzip_tar_gz(input_file, unzipped_dir)"
   ]
  },
  {
   "cell_type": "code",
   "execution_count": 6,
   "metadata": {},
   "outputs": [
    {
     "name": "stdout",
     "output_type": "stream",
     "text": [
      "Renamed 'ta1-cadets-e3-official.json.2' to 'ta1-cadets-e3-official.json.02'\n",
      "Renamed 'ta1-cadets-e3-official.json.1' to 'ta1-cadets-e3-official.json.01'\n"
     ]
    }
   ],
   "source": [
    "rename_files(unzipped_dir)"
   ]
  },
  {
   "cell_type": "code",
   "execution_count": 10,
   "metadata": {},
   "outputs": [],
   "source": [
    "file_list = find_json_files(unzipped_dir)"
   ]
  },
  {
   "cell_type": "code",
   "execution_count": 8,
   "metadata": {},
   "outputs": [
    {
     "data": {
      "text/plain": [
       "list"
      ]
     },
     "execution_count": 8,
     "metadata": {},
     "output_type": "execute_result"
    }
   ],
   "source": [
    "type(file_list)"
   ]
  },
  {
   "cell_type": "code",
   "execution_count": 12,
   "metadata": {},
   "outputs": [],
   "source": [
    "node_keys, edge_keys = get_and_write_keys(file_list)"
   ]
  },
  {
   "cell_type": "code",
   "execution_count": 13,
   "metadata": {},
   "outputs": [
    {
     "name": "stdout",
     "output_type": "stream",
     "text": [
      "<class 'set'>\n",
      "<class 'set'>\n"
     ]
    }
   ],
   "source": [
    "print(type(node_keys))\n",
    "print(type(edge_keys))"
   ]
  },
  {
   "cell_type": "code",
   "execution_count": 19,
   "metadata": {},
   "outputs": [
    {
     "data": {
      "text/plain": [
       "94"
      ]
     },
     "execution_count": 19,
     "metadata": {},
     "output_type": "execute_result"
    }
   ],
   "source": [
    "#get first value of node_keys\n",
    "len(node_keys)"
   ]
  },
  {
   "cell_type": "code",
   "execution_count": null,
   "metadata": {},
   "outputs": [],
   "source": []
  },
  {
   "cell_type": "code",
   "execution_count": 22,
   "metadata": {},
   "outputs": [],
   "source": [
    "process_json_files(file_list, output_dir, node_keys, edge_keys)"
   ]
  },
  {
   "cell_type": "code",
   "execution_count": 25,
   "metadata": {},
   "outputs": [],
   "source": [
    "nodes_file = output_dir + 'nodes.csv'\n",
    "edges_file = output_dir + 'edges.csv'"
   ]
  },
  {
   "cell_type": "code",
   "execution_count": 26,
   "metadata": {},
   "outputs": [],
   "source": [
    "nodes_uuid_column_index, node_mapping = get_node_mapping(output_dir, nodes_file)\n"
   ]
  },
  {
   "cell_type": "code",
   "execution_count": 27,
   "metadata": {},
   "outputs": [
    {
     "name": "stdout",
     "output_type": "stream",
     "text": [
      "<class 'dict'>\n",
      "<class 'dict'>\n"
     ]
    }
   ],
   "source": [
    "print(type(nodes_uuid_column_index))\n",
    "print(type(node_mapping))"
   ]
  },
  {
   "cell_type": "code",
   "execution_count": 28,
   "metadata": {},
   "outputs": [],
   "source": [
    "edges_uuid_column_index =  find_uuid_column_index(edges_file)"
   ]
  },
  {
   "cell_type": "code",
   "execution_count": 32,
   "metadata": {},
   "outputs": [
    {
     "name": "stdout",
     "output_type": "stream",
     "text": [
      "datum.com.bbn.tc.schema.avro.cdm18.Host.uuid\n",
      "18\n",
      "datum.com.bbn.tc.schema.avro.cdm18.Subject.uuid\n",
      "31\n",
      "datum.com.bbn.tc.schema.avro.cdm18.SrcSinkObject.uuid\n",
      "46\n",
      "datum.com.bbn.tc.schema.avro.cdm18.NetFlowObject.uuid\n",
      "63\n",
      "datum.com.bbn.tc.schema.avro.cdm18.FileObject.uuid\n",
      "76\n",
      "datum.com.bbn.tc.schema.avro.cdm18.Principal.uuid\n",
      "80\n",
      "datum.com.bbn.tc.schema.avro.cdm18.UnnamedPipeObject.uuid\n",
      "85\n"
     ]
    }
   ],
   "source": [
    "for key in nodes_uuid_column_index:\n",
    "    print(key)\n",
    "    print(nodes_uuid_column_index[key])"
   ]
  },
  {
   "cell_type": "code",
   "execution_count": 33,
   "metadata": {},
   "outputs": [],
   "source": [
    "conn = establish_connection(config)"
   ]
  },
  {
   "cell_type": "code",
   "execution_count": 34,
   "metadata": {},
   "outputs": [],
   "source": [
    "node_file = config['Directories']['output'] + 'updated_nodes.csv'\n"
   ]
  },
  {
   "cell_type": "code",
   "execution_count": 35,
   "metadata": {},
   "outputs": [],
   "source": [
    "columns_with_type = prepare_columns(node_file, n=10**5) \n"
   ]
  },
  {
   "cell_type": "code",
   "execution_count": 37,
   "metadata": {},
   "outputs": [
    {
     "data": {
      "text/plain": [
       "str"
      ]
     },
     "execution_count": 37,
     "metadata": {},
     "output_type": "execute_result"
    }
   ],
   "source": [
    "type(columns_with_type)"
   ]
  },
  {
   "cell_type": "code",
   "execution_count": null,
   "metadata": {},
   "outputs": [],
   "source": [
    "create_table(conn, config, columns_with_type)\n"
   ]
  },
  {
   "cell_type": "code",
   "execution_count": 38,
   "metadata": {},
   "outputs": [],
   "source": [
    "load_data_infile(conn, config, edges=True)"
   ]
  },
  {
   "cell_type": "code",
   "execution_count": null,
   "metadata": {},
   "outputs": [],
   "source": [
    "import_nodes(config)"
   ]
  },
  {
   "cell_type": "code",
   "execution_count": 5,
   "metadata": {},
   "outputs": [],
   "source": [
    "node_set = set()\n",
    "file_path = config['Directories']['output'] + \"atk_nodes.txt\""
   ]
  },
  {
   "cell_type": "code",
   "execution_count": 7,
   "metadata": {},
   "outputs": [
    {
     "data": {
      "text/plain": [
       "'/Users/robinbuchta/Documents/DARPA/cadets/01_record/output/atk_nodes.txt'"
      ]
     },
     "execution_count": 7,
     "metadata": {},
     "output_type": "execute_result"
    }
   ],
   "source": [
    "file_path"
   ]
  },
  {
   "cell_type": "code",
   "execution_count": 8,
   "metadata": {},
   "outputs": [],
   "source": [
    "if os.path.exists(file_path):\n",
    "    print(\"File exists.\")\n",
    "    with open(file_path, 'r') as file:\n",
    "        for line in file:\n",
    "            node_set.add(line.strip())\n",
    "else:\n",
    "    logging.info(f\"Getting atk nodes from config: {config}\")\n",
    "    yaml_data = read_gt_yaml(config)\n",
    "    logging.info(f\"yaml_data: {yaml_data}\")\n",
    "    node_set = get_atk_nodes_from_yaml(config, yaml_data, with_edges = True, only_subject=False) ## here TRUE OR FALSE FOR GT \n",
    "    #logging.info(f\"node_set: {node_set}\")\n",
    "    with open(file_path, 'w') as file:\n",
    "        file.writelines('\\n'.join(node_set))"
   ]
  },
  {
   "cell_type": "code",
   "execution_count": 10,
   "metadata": {},
   "outputs": [
    {
     "data": {
      "text/plain": [
       "dict"
      ]
     },
     "execution_count": 10,
     "metadata": {},
     "output_type": "execute_result"
    }
   ],
   "source": [
    "type(yaml_data)\n"
   ]
  },
  {
   "cell_type": "code",
   "execution_count": null,
   "metadata": {},
   "outputs": [],
   "source": []
  }
 ],
 "metadata": {
  "kernelspec": {
   "display_name": "pyg3",
   "language": "python",
   "name": "python3"
  },
  "language_info": {
   "codemirror_mode": {
    "name": "ipython",
    "version": 3
   },
   "file_extension": ".py",
   "mimetype": "text/x-python",
   "name": "python",
   "nbconvert_exporter": "python",
   "pygments_lexer": "ipython3",
   "version": "3.11.3"
  },
  "orig_nbformat": 4
 },
 "nbformat": 4,
 "nbformat_minor": 2
}

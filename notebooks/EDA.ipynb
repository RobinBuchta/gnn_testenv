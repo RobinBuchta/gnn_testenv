{
 "cells": [
  {
   "cell_type": "code",
   "execution_count": 1,
   "metadata": {},
   "outputs": [],
   "source": [
    "import logging \n",
    "from torch_geometric import seed_everything\n",
    "import os\n",
    "import configparser\n",
    "logging.basicConfig(\n",
    "    format='%(asctime)s - %(levelname)s - %(message)s',\n",
    "    level=logging.INFO,\n",
    "    filename='app.log',\n",
    "    #filemode='w'\n",
    "    filemode='a',\n",
    ")\n",
    "logging.info('This will get logged to a file')"
   ]
  },
  {
   "cell_type": "code",
   "execution_count": 2,
   "metadata": {},
   "outputs": [
    {
     "name": "stdout",
     "output_type": "stream",
     "text": [
      "2023-09-06 14:57:32\n"
     ]
    }
   ],
   "source": [
    "%load_ext autoreload\n",
    "%autoreload 1\n",
    "from benchmark.preprocess import *\n",
    "from benchmark.constants import *\n",
    "from benchmark.db_import import *\n",
    "from benchmark.ground_truth import *\n",
    "from benchmark.construct_threatrace_graph import *\n",
    "from benchmark.threatrace import *"
   ]
  },
  {
   "cell_type": "code",
   "execution_count": null,
   "metadata": {},
   "outputs": [],
   "source": []
  },
  {
   "cell_type": "code",
   "execution_count": 3,
   "metadata": {},
   "outputs": [
    {
     "name": "stdout",
     "output_type": "stream",
     "text": [
      "Current project directory: /Users/robinbuchta/Documents/GitHub/gnn_testenv/notebooks\n"
     ]
    }
   ],
   "source": [
    "project_dir = os.getcwd()\n",
    "print(\"Current project directory:\", project_dir)"
   ]
  },
  {
   "cell_type": "code",
   "execution_count": 4,
   "metadata": {},
   "outputs": [
    {
     "data": {
      "text/plain": [
       "['../configs/eng3/cadets/cadets_01_record.ini']"
      ]
     },
     "execution_count": 4,
     "metadata": {},
     "output_type": "execute_result"
    }
   ],
   "source": [
    "# Read config file\n",
    "config_dir = \"../configs\"\n",
    "config_file_record_01 = config_dir + '/eng3/cadets/cadets_01_record.ini'\n",
    "config_rec1= configparser.ConfigParser()\n",
    "config_rec1.read(config_file_record_01)"
   ]
  },
  {
   "cell_type": "code",
   "execution_count": 5,
   "metadata": {},
   "outputs": [],
   "source": [
    "# # read tar file and extract to a folder + preprocess \n",
    "# process_darpa_data(config_rec1)\n",
    "# #setup and import data to mariaDB \n",
    "# import_nodes_and_edges(config_rec1) "
   ]
  },
  {
   "cell_type": "code",
   "execution_count": 6,
   "metadata": {},
   "outputs": [
    {
     "name": "stdout",
     "output_type": "stream",
     "text": [
      "('id', 'int(11)', 'NO', 'PRI', None, 'auto_increment')\n",
      "('event_parameters_array_size', 'text', 'YES', '', None, '')\n",
      "('event_properties_map_arg_uid', 'int(11)', 'YES', '', None, '')\n",
      "('event_location', 'text', 'YES', '', None, '')\n",
      "('event_properties_map_arg_egid', 'varchar(255)', 'YES', '', None, '')\n",
      "('event_parameters_array_tag', 'text', 'YES', '', None, '')\n",
      "('event_properties_map_exec', 'varchar(255)', 'YES', '', None, '')\n",
      "('event_parameters_array_type', 'text', 'YES', '', None, '')\n",
      "('event_properties_map_cmdline', 'text', 'YES', '', None, '')\n",
      "('event', 'text', 'YES', '', None, '')\n",
      "('event_properties_map_login', 'varchar(255)', 'YES', '', None, '')\n",
      "('event_parameters_array_name_string', 'text', 'YES', '', None, '')\n",
      "('event_hostid', 'varchar(255)', 'YES', '', None, '')\n",
      "('event_predicateobject2path', 'text', 'YES', '', None, '')\n",
      "('event_predicateobjectpath_string', 'varchar(255)', 'YES', '', None, '')\n",
      "('event_size_long', 'int(11)', 'YES', '', None, '')\n",
      "('event_name', 'text', 'YES', '', None, '')\n",
      "('event_parameters_array_runtimedatatype', 'text', 'YES', '', None, '')\n",
      "('event_properties_map_ret_fd2', 'int(11)', 'YES', '', None, '')\n",
      "('event_predicateobject', 'text', 'YES', '', None, '')\n",
      "('event_properties_map_arg_pid', 'int(11)', 'YES', '', None, '')\n",
      "('event_properties_map_ppid', 'int(11)', 'YES', '', None, '')\n",
      "('event_uuid', 'varchar(255)', 'YES', '', None, '')\n",
      "('event_properties_map_fd', 'varchar(255)', 'YES', '', None, '')\n",
      "('event_predicateobject_com_bbn_tc_schema_avro_cdm18_uuid', 'varchar(255)', 'YES', '', None, '')\n",
      "('event_timestampnanos', 'bigint(20)', 'YES', 'MUL', None, '')\n",
      "('event_type', 'varchar(255)', 'YES', '', None, '')\n",
      "('event_parameters_array_valuedatatype', 'text', 'YES', '', None, '')\n",
      "('event_parameters_array_valuebytes', 'text', 'YES', '', None, '')\n",
      "('event_properties_map_arg_gid', 'int(11)', 'YES', '', None, '')\n",
      "('event_predicateobject2', 'text', 'YES', '', None, '')\n",
      "('event_properties_map_ret_miouuid', 'text', 'YES', '', None, '')\n",
      "('event_properties_map_address', 'varchar(255)', 'YES', '', None, '')\n",
      "('event_properties_map_arg_sgid', 'varchar(255)', 'YES', '', None, '')\n",
      "('event_properties_map_arg_rgid', 'varchar(255)', 'YES', '', None, '')\n",
      "('event_predicateobject2_com_bbn_tc_schema_avro_cdm18_uuid', 'varchar(255)', 'YES', '', None, '')\n",
      "('event_predicateobjectpath', 'text', 'YES', '', None, '')\n",
      "('event_properties_map_arg_miouuid', 'text', 'YES', '', None, '')\n",
      "('event_properties_map_arg_mem_flags', 'varchar(255)', 'YES', '', None, '')\n",
      "('event_properties_map_ret_fd1', 'int(11)', 'YES', '', None, '')\n",
      "('event_parameters_array', 'text', 'YES', '', None, '')\n",
      "('event_properties_map', 'text', 'YES', '', None, '')\n",
      "('event_sequence', 'text', 'YES', '', None, '')\n",
      "('event_subject', 'text', 'YES', '', None, '')\n",
      "('event_parameters', 'text', 'YES', '', None, '')\n",
      "('event_properties_map_return_value', 'varchar(255)', 'YES', '', None, '')\n",
      "('event_properties_map_arg_euid', 'varchar(255)', 'YES', '', None, '')\n",
      "('event_parameters_array_name', 'text', 'YES', '', None, '')\n",
      "('event_programpoint', 'text', 'YES', '', None, '')\n",
      "('event_parameters_array_provenance', 'text', 'YES', '', None, '')\n",
      "('event_properties_map_arg_suid', 'varchar(255)', 'YES', '', None, '')\n",
      "('event_threadid', 'text', 'YES', '', None, '')\n",
      "('event_parameters_array_valuebytes_bytes', 'text', 'YES', '', None, '')\n",
      "('event_predicateobject2path_string', 'varchar(255)', 'YES', '', None, '')\n",
      "('event_parameters_array_isnull', 'text', 'YES', '', None, '')\n",
      "('event_properties_map_port', 'int(11)', 'YES', '', None, '')\n",
      "('event_subject_com_bbn_tc_schema_avro_cdm18_uuid', 'varchar(255)', 'YES', '', None, '')\n",
      "('event_name_string', 'varchar(255)', 'YES', '', None, '')\n",
      "('event_sequence_long', 'int(11)', 'YES', '', None, '')\n",
      "('event_properties_map_partial_path', 'varchar(255)', 'YES', '', None, '')\n",
      "('event_properties_map_ret_msgid', 'bigint(20)', 'YES', '', None, '')\n",
      "('event_properties_map_host', 'varchar(255)', 'YES', '', None, '')\n",
      "('event_properties', 'text', 'YES', '', None, '')\n",
      "('event_properties_map_arg_ruid', 'varchar(255)', 'YES', '', None, '')\n",
      "('event_parameters_array_components', 'text', 'YES', '', None, '')\n",
      "('event_size', 'text', 'YES', '', None, '')\n",
      "('event_threadid_int', 'int(11)', 'YES', '', None, '')\n",
      "('source_numeration', 'int(11)', 'YES', 'MUL', None, '')\n",
      "('destination_numeration', 'int(11)', 'YES', 'MUL', None, '')\n",
      "('destination2_numeration', 'int(11)', 'YES', 'MUL', None, '')\n",
      "('end_column', 'int(11)', 'YES', '', None, '')\n"
     ]
    }
   ],
   "source": [
    "#query = \"SELECT * FROM cadets_edges_01_record LIMIT 10;\"\n",
    "query = \"DESCRIBE cadets_edges_01_record;\"\n",
    "result = execute_query(config_rec1, query)\n",
    "for i in result:\n",
    "    print(i)"
   ]
  },
  {
   "cell_type": "code",
   "execution_count": 7,
   "metadata": {},
   "outputs": [
    {
     "name": "stdout",
     "output_type": "stream",
     "text": [
      "[('cadets_edges_01_record',), ('cadets_edges_03_record',), ('cadets_nodes_01_record',), ('cadets_nodes_03_record',), ('cadets_r03_tt_edges_test',), ('cadets_r03_tt_edges_train',), ('cadets_r03_tt_nodes_test',), ('cadets_r03_tt_nodes_train',), ('tmp1',)]\n"
     ]
    }
   ],
   "source": [
    "connection = establish_connection(config_rec1)\n",
    "cursor = connection.cursor()\n",
    "# Get the list of table names in your database\n",
    "cursor.execute(\"SHOW TABLES;\")\n",
    "tables = cursor.fetchall()\n",
    "print(tables)"
   ]
  },
  {
   "cell_type": "code",
   "execution_count": 9,
   "metadata": {},
   "outputs": [
    {
     "name": "stdout",
     "output_type": "stream",
     "text": [
      "[('cadets_edges_01_record',), ('cadets_edges_03_record',), ('cadets_nodes_01_record',), ('cadets_nodes_03_record',), ('cadets_r03_tt_edges_test',), ('cadets_r03_tt_edges_train',), ('cadets_r03_tt_nodes_test',), ('cadets_r03_tt_nodes_train',), ('tmp1',)]\n",
      "Statistics for table: cadets_edges_01_record\n",
      "['id', 'event_parameters_array_size', 'event_properties_map_arg_uid', 'event_location', 'event_properties_map_arg_egid', 'event_parameters_array_tag', 'event_properties_map_exec', 'event_parameters_array_type', 'event_properties_map_cmdline', 'event', 'event_properties_map_login', 'event_parameters_array_name_string', 'event_hostid', 'event_predicateobject2path', 'event_predicateobjectpath_string', 'event_size_long', 'event_name', 'event_parameters_array_runtimedatatype', 'event_properties_map_ret_fd2', 'event_predicateobject', 'event_properties_map_arg_pid', 'event_properties_map_ppid', 'event_uuid', 'event_properties_map_fd', 'event_predicateobject_com_bbn_tc_schema_avro_cdm18_uuid', 'event_timestampnanos', 'event_type', 'event_parameters_array_valuedatatype', 'event_parameters_array_valuebytes', 'event_properties_map_arg_gid', 'event_predicateobject2', 'event_properties_map_ret_miouuid', 'event_properties_map_address', 'event_properties_map_arg_sgid', 'event_properties_map_arg_rgid', 'event_predicateobject2_com_bbn_tc_schema_avro_cdm18_uuid', 'event_predicateobjectpath', 'event_properties_map_arg_miouuid', 'event_properties_map_arg_mem_flags', 'event_properties_map_ret_fd1', 'event_parameters_array', 'event_properties_map', 'event_sequence', 'event_subject', 'event_parameters', 'event_properties_map_return_value', 'event_properties_map_arg_euid', 'event_parameters_array_name', 'event_programpoint', 'event_parameters_array_provenance', 'event_properties_map_arg_suid', 'event_threadid', 'event_parameters_array_valuebytes_bytes', 'event_predicateobject2path_string', 'event_parameters_array_isnull', 'event_properties_map_port', 'event_subject_com_bbn_tc_schema_avro_cdm18_uuid', 'event_name_string', 'event_sequence_long', 'event_properties_map_partial_path', 'event_properties_map_ret_msgid', 'event_properties_map_host', 'event_properties', 'event_properties_map_arg_ruid', 'event_parameters_array_components', 'event_size', 'event_threadid_int', 'source_numeration', 'destination_numeration', 'destination2_numeration', 'end_column']\n",
      "SELECT id, COUNT(*) FROM cadets_edges_01_record GROUP BY id;\n",
      "SELECT event_parameters_array_size, COUNT(*) FROM cadets_edges_01_record GROUP BY event_parameters_array_size;\n",
      "SELECT event_properties_map_arg_uid, COUNT(*) FROM cadets_edges_01_record GROUP BY event_properties_map_arg_uid;\n",
      "SELECT event_location, COUNT(*) FROM cadets_edges_01_record GROUP BY event_location;\n",
      "SELECT event_properties_map_arg_egid, COUNT(*) FROM cadets_edges_01_record GROUP BY event_properties_map_arg_egid;\n",
      "SELECT event_parameters_array_tag, COUNT(*) FROM cadets_edges_01_record GROUP BY event_parameters_array_tag;\n",
      "SELECT event_properties_map_exec, COUNT(*) FROM cadets_edges_01_record GROUP BY event_properties_map_exec;\n",
      "SELECT event_parameters_array_type, COUNT(*) FROM cadets_edges_01_record GROUP BY event_parameters_array_type;\n",
      "SELECT event_properties_map_cmdline, COUNT(*) FROM cadets_edges_01_record GROUP BY event_properties_map_cmdline;\n",
      "SELECT event, COUNT(*) FROM cadets_edges_01_record GROUP BY event;\n",
      "SELECT event_properties_map_login, COUNT(*) FROM cadets_edges_01_record GROUP BY event_properties_map_login;\n",
      "SELECT event_parameters_array_name_string, COUNT(*) FROM cadets_edges_01_record GROUP BY event_parameters_array_name_string;\n",
      "SELECT event_hostid, COUNT(*) FROM cadets_edges_01_record GROUP BY event_hostid;\n",
      "SELECT event_predicateobject2path, COUNT(*) FROM cadets_edges_01_record GROUP BY event_predicateobject2path;\n",
      "SELECT event_predicateobjectpath_string, COUNT(*) FROM cadets_edges_01_record GROUP BY event_predicateobjectpath_string;\n",
      "SELECT event_size_long, COUNT(*) FROM cadets_edges_01_record GROUP BY event_size_long;\n",
      "SELECT event_name, COUNT(*) FROM cadets_edges_01_record GROUP BY event_name;\n",
      "SELECT event_parameters_array_runtimedatatype, COUNT(*) FROM cadets_edges_01_record GROUP BY event_parameters_array_runtimedatatype;\n",
      "SELECT event_properties_map_ret_fd2, COUNT(*) FROM cadets_edges_01_record GROUP BY event_properties_map_ret_fd2;\n",
      "SELECT event_predicateobject, COUNT(*) FROM cadets_edges_01_record GROUP BY event_predicateobject;\n",
      "SELECT event_properties_map_arg_pid, COUNT(*) FROM cadets_edges_01_record GROUP BY event_properties_map_arg_pid;\n",
      "SELECT event_properties_map_ppid, COUNT(*) FROM cadets_edges_01_record GROUP BY event_properties_map_ppid;\n",
      "SELECT event_uuid, COUNT(*) FROM cadets_edges_01_record GROUP BY event_uuid;\n",
      "SELECT event_properties_map_fd, COUNT(*) FROM cadets_edges_01_record GROUP BY event_properties_map_fd;\n",
      "SELECT event_predicateobject_com_bbn_tc_schema_avro_cdm18_uuid, COUNT(*) FROM cadets_edges_01_record GROUP BY event_predicateobject_com_bbn_tc_schema_avro_cdm18_uuid;\n",
      "SELECT event_timestampnanos, COUNT(*) FROM cadets_edges_01_record GROUP BY event_timestampnanos;\n",
      "SELECT event_type, COUNT(*) FROM cadets_edges_01_record GROUP BY event_type;\n",
      "SELECT event_parameters_array_valuedatatype, COUNT(*) FROM cadets_edges_01_record GROUP BY event_parameters_array_valuedatatype;\n",
      "SELECT event_parameters_array_valuebytes, COUNT(*) FROM cadets_edges_01_record GROUP BY event_parameters_array_valuebytes;\n",
      "SELECT event_properties_map_arg_gid, COUNT(*) FROM cadets_edges_01_record GROUP BY event_properties_map_arg_gid;\n",
      "SELECT event_predicateobject2, COUNT(*) FROM cadets_edges_01_record GROUP BY event_predicateobject2;\n",
      "SELECT event_properties_map_ret_miouuid, COUNT(*) FROM cadets_edges_01_record GROUP BY event_properties_map_ret_miouuid;\n",
      "SELECT event_properties_map_address, COUNT(*) FROM cadets_edges_01_record GROUP BY event_properties_map_address;\n",
      "SELECT event_properties_map_arg_sgid, COUNT(*) FROM cadets_edges_01_record GROUP BY event_properties_map_arg_sgid;\n",
      "SELECT event_properties_map_arg_rgid, COUNT(*) FROM cadets_edges_01_record GROUP BY event_properties_map_arg_rgid;\n",
      "SELECT event_predicateobject2_com_bbn_tc_schema_avro_cdm18_uuid, COUNT(*) FROM cadets_edges_01_record GROUP BY event_predicateobject2_com_bbn_tc_schema_avro_cdm18_uuid;\n",
      "SELECT event_predicateobjectpath, COUNT(*) FROM cadets_edges_01_record GROUP BY event_predicateobjectpath;\n",
      "SELECT event_properties_map_arg_miouuid, COUNT(*) FROM cadets_edges_01_record GROUP BY event_properties_map_arg_miouuid;\n",
      "SELECT event_properties_map_arg_mem_flags, COUNT(*) FROM cadets_edges_01_record GROUP BY event_properties_map_arg_mem_flags;\n",
      "SELECT event_properties_map_ret_fd1, COUNT(*) FROM cadets_edges_01_record GROUP BY event_properties_map_ret_fd1;\n",
      "SELECT event_parameters_array, COUNT(*) FROM cadets_edges_01_record GROUP BY event_parameters_array;\n",
      "SELECT event_properties_map, COUNT(*) FROM cadets_edges_01_record GROUP BY event_properties_map;\n",
      "SELECT event_sequence, COUNT(*) FROM cadets_edges_01_record GROUP BY event_sequence;\n",
      "SELECT event_subject, COUNT(*) FROM cadets_edges_01_record GROUP BY event_subject;\n",
      "SELECT event_parameters, COUNT(*) FROM cadets_edges_01_record GROUP BY event_parameters;\n",
      "SELECT event_properties_map_return_value, COUNT(*) FROM cadets_edges_01_record GROUP BY event_properties_map_return_value;\n",
      "SELECT event_properties_map_arg_euid, COUNT(*) FROM cadets_edges_01_record GROUP BY event_properties_map_arg_euid;\n",
      "SELECT event_parameters_array_name, COUNT(*) FROM cadets_edges_01_record GROUP BY event_parameters_array_name;\n",
      "SELECT event_programpoint, COUNT(*) FROM cadets_edges_01_record GROUP BY event_programpoint;\n",
      "SELECT event_parameters_array_provenance, COUNT(*) FROM cadets_edges_01_record GROUP BY event_parameters_array_provenance;\n",
      "SELECT event_properties_map_arg_suid, COUNT(*) FROM cadets_edges_01_record GROUP BY event_properties_map_arg_suid;\n",
      "SELECT event_threadid, COUNT(*) FROM cadets_edges_01_record GROUP BY event_threadid;\n",
      "SELECT event_parameters_array_valuebytes_bytes, COUNT(*) FROM cadets_edges_01_record GROUP BY event_parameters_array_valuebytes_bytes;\n",
      "SELECT event_predicateobject2path_string, COUNT(*) FROM cadets_edges_01_record GROUP BY event_predicateobject2path_string;\n",
      "SELECT event_parameters_array_isnull, COUNT(*) FROM cadets_edges_01_record GROUP BY event_parameters_array_isnull;\n",
      "SELECT event_properties_map_port, COUNT(*) FROM cadets_edges_01_record GROUP BY event_properties_map_port;\n",
      "SELECT event_subject_com_bbn_tc_schema_avro_cdm18_uuid, COUNT(*) FROM cadets_edges_01_record GROUP BY event_subject_com_bbn_tc_schema_avro_cdm18_uuid;\n",
      "SELECT event_name_string, COUNT(*) FROM cadets_edges_01_record GROUP BY event_name_string;\n",
      "SELECT event_sequence_long, COUNT(*) FROM cadets_edges_01_record GROUP BY event_sequence_long;\n",
      "SELECT event_properties_map_partial_path, COUNT(*) FROM cadets_edges_01_record GROUP BY event_properties_map_partial_path;\n",
      "SELECT event_properties_map_ret_msgid, COUNT(*) FROM cadets_edges_01_record GROUP BY event_properties_map_ret_msgid;\n",
      "SELECT event_properties_map_host, COUNT(*) FROM cadets_edges_01_record GROUP BY event_properties_map_host;\n",
      "SELECT event_properties, COUNT(*) FROM cadets_edges_01_record GROUP BY event_properties;\n",
      "SELECT event_properties_map_arg_ruid, COUNT(*) FROM cadets_edges_01_record GROUP BY event_properties_map_arg_ruid;\n",
      "SELECT event_parameters_array_components, COUNT(*) FROM cadets_edges_01_record GROUP BY event_parameters_array_components;\n",
      "SELECT event_size, COUNT(*) FROM cadets_edges_01_record GROUP BY event_size;\n",
      "SELECT event_threadid_int, COUNT(*) FROM cadets_edges_01_record GROUP BY event_threadid_int;\n",
      "SELECT source_numeration, COUNT(*) FROM cadets_edges_01_record GROUP BY source_numeration;\n",
      "SELECT destination_numeration, COUNT(*) FROM cadets_edges_01_record GROUP BY destination_numeration;\n",
      "SELECT destination2_numeration, COUNT(*) FROM cadets_edges_01_record GROUP BY destination2_numeration;\n",
      "SELECT end_column, COUNT(*) FROM cadets_edges_01_record GROUP BY end_column;\n"
     ]
    }
   ],
   "source": [
    "connection = establish_connection(config_rec1)\n",
    "cursor = connection.cursor()\n",
    "# Get the list of table names in your database\n",
    "cursor.execute(\"SHOW TABLES;\")\n",
    "tables = cursor.fetchall()\n",
    "print(tables)\n",
    "\n",
    "def fetch_table_statistics(table_name):\n",
    "    cursor.execute(f\"SELECT * FROM {table_name} Limit 10;\")\n",
    "    column_names = [desc[0] for desc in cursor.description]\n",
    "    print(column_names)\n",
    "    cursor.fetchall()\n",
    "    statistics = {}\n",
    "    for column_name in column_names:\n",
    "        query = f\"SELECT {column_name}, COUNT(*) FROM {table_name} GROUP BY {column_name};\"\n",
    "        print(query)\n",
    "        cursor.execute(query)\n",
    "\n",
    "        result = cursor.fetchall()\n",
    "        statistics[column_name] = result\n",
    "    \n",
    "    return statistics \n",
    "table_name = \"cadets_nodes_01_record\"\n",
    "table_name = \"cadets_edges_01_record\"\n",
    "print(f\"Statistics for table: {table_name}\")\n",
    "statistics = fetch_table_statistics(table_name)\n",
    "\n",
    "#runtime 43 min for table_name = \"cadets_edges_01_record\"\n"
   ]
  },
  {
   "cell_type": "code",
   "execution_count": null,
   "metadata": {},
   "outputs": [],
   "source": [
    "# for column_name, values in statistics.items():\n",
    "#     print(f\"Column: {column_name}\")\n",
    "#     for value, count in values:\n",
    "#         print(f\"Value: {value}, Count: {count}\")\n",
    "\n",
    "# print(\"\\n\")\n"
   ]
  },
  {
   "cell_type": "code",
   "execution_count": 10,
   "metadata": {},
   "outputs": [],
   "source": [
    "#save results to txt a folder and every column in a file\n",
    "os.makedirs(f'{table_name}_table_statistics', exist_ok=True) \n",
    "for column_name, values in statistics.items(): \n",
    "    with open(f'{table_name}_table_statistics/{column_name}.txt', 'w') as f: \n",
    "        f.write(f\"Column: {column_name}\\n\")  \n",
    "        for value, count in values: \n",
    "            f.write(f\"Value: {value}, Count: {count}\\n\") \n",
    "        \n",
    "\n",
    "\n",
    "\n",
    "\n",
    "\n",
    "\n",
    "# with open(f'{table_name}_table_statistics.txt', 'w') as f:\n",
    "#     for column_name, values in statistics.items():\n",
    "#         f.write(f\"Column: {column_name}\\n\")\n",
    "#         for value, count in values:\n",
    "#             f.write(f\"Value: {value}, Count: {count}\\n\")\n",
    "#         #f.write(\"\\n\")\n",
    "#         f.write(\"-\"*100)\n",
    "#         f.write(\"-\"*100)"
   ]
  },
  {
   "cell_type": "code",
   "execution_count": null,
   "metadata": {},
   "outputs": [],
   "source": [
    "# Function to fetch unique value counts for a given table\n",
    "def fetch_table_statistics(table_name):\n",
    "    cursor.execute(f\"SELECT * FROM {table_name};\")\n",
    "    column_names = [desc[0] for desc in cursor.description]\n",
    "    \n",
    "    statistics = {}\n",
    "    for column_name in column_names:\n",
    "        cursor.execute(f\"SELECT {column_name}, COUNT(*) FROM {table_name} GROUP BY {column_name};\")\n",
    "        result = cursor.fetchall()\n",
    "        statistics[column_name] = result\n",
    "    \n",
    "    return statistics\n",
    "\n",
    "# Fetch statistics for each table in the database\n",
    "for table in tables:\n",
    "    table_name = table[0]\n",
    "    print(f\"Statistics for table: {table_name}\")\n",
    "    statistics = fetch_table_statistics(table_name)\n",
    "    \n",
    "    for column_name, values in statistics.items():\n",
    "        print(f\"Column: {column_name}\")\n",
    "        for value, count in values:\n",
    "            print(f\"Value: {value}, Count: {count}\")\n",
    "    \n",
    "    print(\"\\n\")\n"
   ]
  },
  {
   "cell_type": "code",
   "execution_count": null,
   "metadata": {},
   "outputs": [],
   "source": []
  },
  {
   "cell_type": "code",
   "execution_count": null,
   "metadata": {},
   "outputs": [],
   "source": []
  },
  {
   "cell_type": "code",
   "execution_count": null,
   "metadata": {},
   "outputs": [],
   "source": []
  },
  {
   "cell_type": "code",
   "execution_count": 4,
   "metadata": {},
   "outputs": [
    {
     "data": {
      "text/plain": [
       "['../configs/eng3/cadets/cadets_03_record.ini']"
      ]
     },
     "execution_count": 4,
     "metadata": {},
     "output_type": "execute_result"
    }
   ],
   "source": [
    "# Read config file\n",
    "config_dir = \"../configs\"\n",
    "config_file_record_03 = config_dir + '/eng3/cadets/cadets_03_record.ini'\n",
    "config_rec3 = configparser.ConfigParser()\n",
    "config_rec3.read(config_file_record_03)\n"
   ]
  },
  {
   "cell_type": "code",
   "execution_count": 5,
   "metadata": {},
   "outputs": [],
   "source": [
    "# read tar file and extract to a folder + preprocess\n",
    "process_darpa_data(config_rec3)\n"
   ]
  },
  {
   "cell_type": "code",
   "execution_count": 6,
   "metadata": {},
   "outputs": [],
   "source": [
    "#setup and import data to mariaDB \n",
    "import_nodes_and_edges(config_rec3)"
   ]
  },
  {
   "cell_type": "code",
   "execution_count": 7,
   "metadata": {},
   "outputs": [
    {
     "name": "stdout",
     "output_type": "stream",
     "text": [
      "Data(x=[154960, 56], edge_index=[2, 1738773], y=[154960], train_mask=[154960], test_mask=[154960])\n",
      "Data(x=[574338, 56], edge_index=[2, 7375768], y=[574338], train_mask=[574338], test_mask=[574338])\n"
     ]
    }
   ],
   "source": [
    "# create train and test data\n",
    "mypygdata = MyPyGDataset(config_rec3, own_timestamp_percent=20, extension=\"20percentTrain\") # 4min\n",
    "data_train = mypygdata[0][0]\n",
    "data_test = mypygdata[0][1]\n",
    "print(data_train)\n",
    "print(data_test)"
   ]
  },
  {
   "cell_type": "code",
   "execution_count": 8,
   "metadata": {},
   "outputs": [],
   "source": [
    "# create ground truth \n",
    "gt_file1 = config_rec3['Files']['ground_truth'] # -> special case for record3, because here 2 attacks are given \n",
    "gt_file2 = config_rec3['Files']['ground_truth1'] # -> special case for record3, because here 2 attacks are given \n",
    "gts = [gt_file1, gt_file2]\n",
    "gt = get_atk_nodes_for_evaluation(config_rec3, multi=True, gts=gts)"
   ]
  },
  {
   "cell_type": "code",
   "execution_count": 9,
   "metadata": {},
   "outputs": [],
   "source": [
    "# create threatrace GNN anomaly detection Pipeline \n",
    "ttp = ThreaTracePipeline(data_train, data_test, config_rec3) "
   ]
  },
  {
   "cell_type": "code",
   "execution_count": 10,
   "metadata": {},
   "outputs": [
    {
     "name": "stdout",
     "output_type": "stream",
     "text": [
      "1 9.166815757751465 0.01567501290655653 2023-08-10 10:55:47\n",
      "2 10.35104751586914 0.01610092927207021 2023-08-10 10:55:48\n",
      "3 8.434337615966797 0.016894682498709346 2023-08-10 10:55:49\n",
      "4 5.784651756286621 0.019869643779039752 2023-08-10 10:55:50\n",
      "5 9.287395477294922 0.024193340216830148 2023-08-10 10:55:51\n",
      "6 6.2006449699401855 0.03622870418172432 2023-08-10 10:55:52\n",
      "7 9.684502601623535 0.0378291171915333 2023-08-10 10:55:53\n",
      "8 7.72467565536499 0.043191791430046464 2023-08-10 10:55:54\n",
      "9 6.591103553771973 0.4815952503871967 2023-08-10 10:55:55\n",
      "10 7.101161479949951 0.4803755807950439 2023-08-10 10:55:56\n",
      "11 5.838714599609375 0.4832537429013939 2023-08-10 10:55:56\n",
      "12 7.653964042663574 0.48782266391326795 2023-08-10 10:55:57\n",
      "13 9.503602981567383 0.4938887454827052 2023-08-10 10:55:58\n",
      "14 7.744908332824707 0.5025619514713474 2023-08-10 10:55:59\n",
      "15 5.208500862121582 0.5143069179143005 2023-08-10 10:55:59\n",
      "16 4.623690128326416 0.5200761486835312 2023-08-10 10:56:00\n",
      "17 2.7334868907928467 0.5416300980898296 2023-08-10 10:56:01\n",
      "18 7.384320259094238 0.5819114610221993 2023-08-10 10:56:02\n",
      "19 3.375513792037964 0.6718378936499741 2023-08-10 10:56:03\n",
      "20 5.616384506225586 0.6794850283944244 2023-08-10 10:56:03\n",
      "21 6.899615287780762 0.6995740836344864 2023-08-10 10:56:04\n",
      "22 4.044233798980713 0.6967669075890552 2023-08-10 10:56:05\n",
      "23 4.901079177856445 0.6974703149199794 2023-08-10 10:56:06\n",
      "24 6.010878086090088 0.6976639132679401 2023-08-10 10:56:07\n",
      "25 1.9092611074447632 0.7333440887971089 2023-08-10 10:56:08\n",
      "26 4.845440864562988 0.7337958182756841 2023-08-10 10:56:09\n",
      "27 2.875121831893921 0.7340345895715024 2023-08-10 10:56:10\n",
      "28 4.548654079437256 0.7345121321631388 2023-08-10 10:56:11\n",
      "29 2.270465850830078 0.7349057821373257 2023-08-10 10:56:12\n",
      "New Round\n",
      "false_classified, true_classified\n",
      "57950 97010\n",
      "Model saved loop_num: 0 2023-08-10 10:56:17\n",
      "New Round\n",
      "false_classified, true_classified\n",
      "9384 48566\n",
      "Model saved loop_num: 1 2023-08-10 10:56:26\n",
      "New Round\n",
      "false_classified, true_classified\n",
      "3660 5724\n",
      "Model saved loop_num: 2 2023-08-10 10:56:29\n",
      "New Round\n",
      "false_classified, true_classified\n",
      "994 2666\n",
      "Model saved loop_num: 3 2023-08-10 10:56:31\n",
      "New Round\n",
      "false_classified, true_classified\n",
      "386 608\n",
      "Model saved loop_num: 4 2023-08-10 10:56:32\n",
      "New Round\n",
      "false_classified, true_classified\n",
      "124 262\n",
      "Model saved loop_num: 5 2023-08-10 10:56:32\n",
      "New Round\n",
      "false_classified, true_classified\n",
      "43 81\n",
      "Model saved loop_num: 6 2023-08-10 10:56:32\n",
      "New Round\n",
      "false_classified, true_classified\n",
      "19 24\n",
      "Model saved loop_num: 7 2023-08-10 10:56:32\n",
      "New Round\n",
      "false_classified, true_classified\n",
      "10 9\n",
      "Model saved loop_num: 8 2023-08-10 10:56:33\n",
      "New Round\n",
      "false_classified, true_classified\n",
      "5 5\n",
      "Model saved loop_num: 9 2023-08-10 10:56:33\n"
     ]
    }
   ],
   "source": [
    "#ttp.delete_old_models()\n",
    "ttp.pretraining()\n",
    "ttp.multi_model_training()"
   ]
  },
  {
   "cell_type": "code",
   "execution_count": 11,
   "metadata": {},
   "outputs": [
    {
     "name": "stdout",
     "output_type": "stream",
     "text": [
      "##############################################################################################################\n",
      "own evaluation\n",
      "##############################################################################################################\n",
      "Loop_num: 0  Accuracy:0.7031  true_classified:403807  false_classified:170531\n",
      "Loop_num: 1  Accuracy:0.1908  true_classified:109600  false_classified:464738\n",
      "Loop_num: 2  Accuracy:0.0486  true_classified:27913  false_classified:546425\n",
      "Loop_num: 3  Accuracy:0.1421  true_classified:81599  false_classified:492739\n",
      "Loop_num: 4  Accuracy:0.0253  true_classified:14517  false_classified:559821\n",
      "Loop_num: 5  Accuracy:0.0267  true_classified:15347  false_classified:558991\n",
      "Loop_num: 6  Accuracy:0.0332  true_classified:19095  false_classified:555243\n",
      "Loop_num: 7  Accuracy:0.6233  true_classified:357990  false_classified:216348\n",
      "Loop_num: 8  Accuracy:0.0227  true_classified:13039  false_classified:561299\n",
      "Loop_num: 9  Accuracy:0.0677  true_classified:38905  false_classified:535433\n",
      "Loop_num: 10  Accuracy:0.0734  true_classified:42147  false_classified:532191\n",
      "Loop_num: 11  Accuracy:0.0125  true_classified:7177  false_classified:567161\n",
      "Loop_num: 12  Accuracy:0.0299  true_classified:17166  false_classified:557172\n",
      "Loop_num: 13  Accuracy:0.0178  true_classified:10210  false_classified:564128\n",
      "Unique Count of data_flow.y:  (tensor([0, 1, 2, 3, 4, 5]), tensor([133448,  43080, 374521,  12657,  10510,    122]))\n",
      "Unique Count of pred: (tensor([False,  True]), tensor([571013,   3325]))\n"
     ]
    }
   ],
   "source": [
    "print(\"##############################################################################################################\")\n",
    "print(\"own evaluation\")\n",
    "print(\"##############################################################################################################\")\n",
    "ttp.reinit_test_data() \n",
    "ttp.test_model_performance() \n"
   ]
  },
  {
   "cell_type": "code",
   "execution_count": 12,
   "metadata": {},
   "outputs": [
    {
     "name": "stdout",
     "output_type": "stream",
     "text": [
      "##############################################################################################################\n",
      "2 HOP\n",
      "{'tn': 574338}\n",
      "start\n",
      "{'tn': 574338}\n",
      "set every node in gt to fn\n",
      "{'fn': 25049, 'tn': 549289}\n",
      "gt\n",
      "{'fn': 25049, 'tn': 549289}\n"
     ]
    },
    {
     "name": "stderr",
     "output_type": "stream",
     "text": [
      "100%|██████████| 3325/3325 [06:01<00:00,  9.19it/s]\n"
     ]
    },
    {
     "name": "stdout",
     "output_type": "stream",
     "text": [
      "{'fn': 6673, 'tn': 549289, 'tp': 18376}\n",
      "Intersection Counter: 3323\n",
      "574338\n",
      "18376 0 549289 6673\n",
      "TP: 18376, FP: 0, TN: 549289, FN: 6673\n",
      "Precision:  0.9999999999999947\n",
      "Recall:  0.7336021398059774\n",
      "F-Score:  0.8463327575792714\n",
      "Accuracy:  0.9883814060709896\n"
     ]
    }
   ],
   "source": [
    "print(\"##############################################################################################################\")\n",
    "print(\"2 HOP\")\n",
    "hits = ttp.evaluation(gt)\n",
    "\n",
    "# TP: 18234, FP: 0, TN: 549289, FN: 6815\n",
    "# Precision:  0.9999999999999946\n",
    "# Recall:  0.7279332508283736\n",
    "# F-Score:  0.8425478824917251\n",
    "# Accuracy:  0.9881341648994146"
   ]
  },
  {
   "cell_type": "code",
   "execution_count": 13,
   "metadata": {},
   "outputs": [
    {
     "name": "stdout",
     "output_type": "stream",
     "text": [
      "start\n",
      "{'tn': 574338}\n",
      "set every node in gt to fn\n",
      "{'fn': 25049, 'tn': 549289}\n"
     ]
    },
    {
     "name": "stderr",
     "output_type": "stream",
     "text": [
      "100%|██████████| 3325/3325 [00:00<00:00, 8313.06it/s]\n"
     ]
    },
    {
     "name": "stdout",
     "output_type": "stream",
     "text": [
      "{'fn': 24988, 'fp': 469, 'tn': 548820, 'tp': 61}\n",
      "574338\n",
      "61 469 548820 24988\n",
      "TP: 61, FP: 469, TN: 548820, FN: 24988\n",
      "Precision:  0.11509433962261978\n",
      "Recall:  0.0024352269551678614\n",
      "F-Score:  0.004769537507181492\n",
      "Accuracy:  0.9556759260226556\n"
     ]
    }
   ],
   "source": [
    "hits = ttp.evaluation_no_hop(gt)\n"
   ]
  },
  {
   "cell_type": "code",
   "execution_count": 14,
   "metadata": {},
   "outputs": [
    {
     "name": "stdout",
     "output_type": "stream",
     "text": [
      "Get Detection Insights\n",
      "Unique Count of data_flow.y:  (tensor([0, 1, 2, 3, 4, 5]), tensor([133448,  43080, 374521,  12657,  10510,    122]))\n",
      "Unique Count of pred: (tensor([False,  True]), tensor([571013,   3325]))\n",
      "Unique Count of filtered_tensor: (tensor([0, 1, 2, 3, 4, 5]), tensor([   6,    4,    8,   90, 3214,    3]))\n"
     ]
    },
    {
     "data": {
      "text/plain": [
       "tensor([4, 4, 4,  ..., 4, 4, 1])"
      ]
     },
     "execution_count": 14,
     "metadata": {},
     "output_type": "execute_result"
    }
   ],
   "source": [
    "ttp.get_detection_insights()"
   ]
  },
  {
   "cell_type": "code",
   "execution_count": 15,
   "metadata": {},
   "outputs": [
    {
     "name": "stdout",
     "output_type": "stream",
     "text": [
      "{'tn': 574338}\n",
      "start\n",
      "{'tn': 574338}\n",
      "set every node in gt to fn\n",
      "{'fn': 25049, 'tn': 549289}\n",
      "gt\n",
      "{'fn': 25049, 'tn': 549289}\n"
     ]
    },
    {
     "name": "stderr",
     "output_type": "stream",
     "text": [
      "100%|██████████| 3325/3325 [00:33<00:00, 98.92it/s] \n"
     ]
    },
    {
     "name": "stdout",
     "output_type": "stream",
     "text": [
      "{'fn': 24959, 'tn': 549289, 'tp': 90}\n",
      "Intersection Counter: 2879\n",
      "574338\n",
      "90 0 549289 24959\n",
      "TP: 90, FP: 0, TN: 549289, FN: 24959\n",
      "Precision:  0.9999999999988889\n",
      "Recall:  0.003592957802706681\n",
      "F-Score:  0.007160189346515892\n",
      "Accuracy:  0.956543011258179\n"
     ]
    }
   ],
   "source": [
    "hits = ttp.evaluation(gt, num_hops=1)"
   ]
  },
  {
   "cell_type": "code",
   "execution_count": 16,
   "metadata": {},
   "outputs": [],
   "source": [
    "def create_boolean_tensor(length, true_positions):\n",
    "    tensor = np.zeros(length, dtype=bool)\n",
    "    tensor[true_positions] = True\n",
    "    return torch.tensor(tensor)"
   ]
  },
  {
   "cell_type": "code",
   "execution_count": 17,
   "metadata": {},
   "outputs": [
    {
     "name": "stdout",
     "output_type": "stream",
     "text": [
      "[486191, 451283, 165158, 220532, 514041, 318129, 565527, 9449, 416922, 139294, 491179, 564972, 532348, 79728, 73180, 486725, 238537, 573686, 461310, 366130, 153339, 414796, 522018, 312826, 242883, 23691, 283369, 338256, 50434, 148755, 47041, 399819, 265835, 406993, 68851, 126780, 88988, 123735, 102516, 31741, 180849, 134111, 270309, 224927, 8953, 291836, 271444, 363024, 114504, 440556, 327494, 459738, 125907, 477487, 337582, 543202, 159525, 521581, 334630, 68580, 114565, 527350, 43252, 108918, 58031, 264274, 379191, 406763, 285433, 509111, 158036, 175360, 305569, 290674, 131015, 145527, 390609, 371124, 43881, 269938, 324009, 23553, 443534, 321310, 450956, 413685, 449225, 449389, 539411, 537626, 379872, 253924, 18240, 499668, 12184, 465736, 332674, 349314, 215794, 184366, 54754, 361764, 507480, 55673, 473602, 286932, 285458, 115020, 461941, 507400, 69647, 100116, 455229, 223443, 542257, 102329, 65179, 438615, 206057, 13219, 358940, 562955, 465598, 71165, 466018, 320056, 412135, 10700, 477024, 7688, 144687, 470809, 183021, 120597, 101526, 346643, 348201, 431012, 383975, 321063, 569330, 152209, 107049, 167215, 234131, 322475, 305946, 78169, 59499, 233367, 42561, 245019, 435459, 328637, 403903, 38944, 557943, 63373, 267576, 539696, 163433, 247737, 31315, 390649, 555376, 422645, 414345, 102972, 35249, 190570, 410311, 25297, 232708, 523255, 201731, 551039, 303704, 202286, 417277, 429487, 127551, 546821, 352979, 50556, 516543, 462563, 415078, 366633, 238241, 248645, 169688, 351807, 83821, 560913, 381950, 89089, 554114, 453300, 130162, 88925, 196589, 416687, 263371, 487617, 124573, 268809, 38224, 511922, 549919, 273247, 48509, 138186, 126859, 337314, 111449, 327576, 99806, 90079, 369205, 331135, 550112, 536336, 149969, 552889, 427140, 221643, 286086, 537511, 270306, 123054, 144948, 375208, 206067, 150445, 399106, 132796, 338708, 459367, 549335, 370171, 322090, 331665, 250800, 297040, 342865, 369503, 453823, 569905, 228879, 121705, 421519, 26452, 499405, 550784, 559186, 552252, 111555, 304563, 431013, 55845, 224548, 368208, 507397, 245558, 269047, 70847, 188627, 247791, 122401, 397929, 65326, 171110, 414307, 182035, 351484, 364526, 318768, 60155, 443394, 183331, 336033, 373798, 22958, 206278, 145401, 269474, 214390, 416666, 517130, 397592, 316940, 369340, 138077, 533683, 55030, 48050, 304676, 193326, 532523, 262093, 339688, 61495, 212510, 187854, 311393, 312883, 504542, 526814, 305581, 424960, 492037, 308898, 166287, 170118, 183871, 378982, 176596, 206672, 568663, 274644, 115498, 116443, 317921, 316280, 486638, 463020, 213645, 187574, 239454, 550220, 151959, 13450, 486999, 67270, 42699, 59701, 146889, 423657, 201802, 528377, 173377, 278339, 364797, 194791, 132325, 333761, 271333, 236140, 118294, 289037, 375349, 300335, 396224, 87308, 266293, 449577, 228536, 502286, 93940, 274396, 207323, 182044, 116804, 429766, 148312, 150251, 200937, 497748, 572700, 339335, 299703, 447519, 510838, 117434, 525873, 420091, 220905, 130524, 284187, 483102, 550849, 421680, 349976, 537603, 134482, 123773, 267087, 76227, 417330, 330988, 470386, 439473, 519142, 103467, 529157, 206078, 297506, 13108, 565171, 127303, 501517, 231374, 103066, 216725, 309544, 344592, 561296, 228601, 80707, 385247, 219856, 206992, 164270, 131574, 279885, 540100, 217299, 328212, 371439, 58552, 180278, 31727, 301224, 415823, 284277, 123819, 311591, 248845, 478081, 202319, 332524, 536955, 240882, 426978, 522916, 526434, 557105, 395500, 243518, 252598, 160407, 556754, 195326, 122659, 277321, 5054, 112869, 388747, 405025, 274397, 137819, 392791, 446152, 408944, 389994, 106933, 324144, 261197, 144137, 16777, 375674, 423988, 570893, 352342, 245197, 520846, 253875, 169291, 430788, 559852, 47257, 522482, 462420, 523337, 218062, 222628, 261739, 150556, 570187, 112191, 281215, 268363, 132118, 160950, 96451, 130234, 100604, 106765, 323975, 156041, 228041, 565312, 442760, 399396, 78862, 33244, 325, 112375, 417077, 251001, 33490, 387390, 145478, 421187, 331712, 109910, 487450, 394643, 110471, 378106, 111786, 244949, 509658, 460896, 439240, 522731, 198297, 509144, 486117, 354139, 51951, 287665, 300506, 498175, 259561, 140980, 412331, 418678, 440514, 53526, 300403, 164823, 87859, 527957, 458946, 283924, 294922, 86205, 212802, 44610, 281820, 132948, 403034, 246066, 368509, 499451, 381115, 400792, 491827, 151109, 410096, 49797, 199843, 573861, 280365, 34243, 340869, 18529, 322273, 443476, 173073, 346959, 248615, 222384, 442825, 533272, 135749, 475274, 114489, 319768, 194219, 245251, 413005, 21929, 392164, 367747, 212340, 552597, 236002, 133173, 350447, 177711, 541109, 490301, 323872, 321419, 17686, 112391, 270907, 526578, 130618, 162346, 391618, 347746, 422384, 228529, 121459, 356461, 193560, 291075, 70130, 447609, 446021, 548143, 279086, 231101, 112547, 359056, 114845, 402191, 367747, 402367, 213177, 362906, 16969, 498504, 138319, 6742, 334166, 410497, 125445, 100060, 127636, 353929, 20190, 388315, 551818, 252995, 96030, 397320, 206306, 114480, 18138, 30259, 45999, 568947, 113878, 117307, 140304, 294267, 564463, 426411, 234419, 239625, 38208, 320333, 95906, 555207, 383025, 496222, 193250, 49869, 281804, 495186, 438881, 348895, 263005, 352909, 238393, 331407, 442375, 174481, 319949, 65944, 549022, 434709, 217252, 77339, 543796, 292639, 84524, 388354, 69972, 176042, 537493, 185190, 255588, 416662, 481281, 73479, 543034, 60994, 106627, 293147, 440436, 476433, 457722, 198583, 276203, 228084, 96110, 381584, 424648, 513118, 428724, 411273, 14238, 539596, 559749, 12083, 174899, 197510, 421848, 487070, 330706, 546290, 360752, 121737, 195186, 527604, 188432, 509091, 232292, 367435, 339026, 166281, 206669, 20434, 87450, 404990, 519304, 297892, 492000, 525622, 183519, 519494, 211708, 552183, 206825, 219561, 220653, 71852, 381030, 428243, 44852, 126137, 313974, 347615, 164809, 144930, 161387, 100058, 331155, 155206, 245690, 379992, 396445, 71257, 176686, 483567, 326880, 306556, 114630, 495672, 243567, 337273, 424336, 472102, 269655, 244537, 89010, 156786, 482705, 4619, 224320, 265225, 271061, 362702, 39824, 435817, 233533, 209367, 178901, 533283, 26059, 415098, 224806, 434267, 552998, 451165, 406977, 443008, 231188, 387540, 513061, 176209, 84857, 132679, 78320, 450367, 454435, 7416, 565057, 141623, 558863, 253752, 176319, 70498, 194810, 340433, 298988, 238554, 370100, 103050, 282591, 17358, 130327, 330792, 338946, 177709, 485673, 174462, 398607, 183657, 400583, 173245, 198299, 373003, 223325, 402516, 177922, 455117, 204625, 243677, 420622, 283025, 514602, 567225, 215465, 431859, 536858, 184657, 217275, 464386, 84084, 193803, 135098, 238852, 454010, 226798, 48495, 88258, 523656, 122932, 159143, 342663, 230733, 309952, 275421, 478926, 99823, 3685, 355554, 406240, 40543, 350654, 519231, 382488, 106397, 466366, 160339, 179349, 321579, 130567, 241506, 270775, 135562, 227180, 295143, 90778, 440448, 255363, 278398, 350372, 424584, 548286, 388723, 478609, 535432, 214521, 212907, 465101, 262903, 202460, 103330, 199245, 516873, 542864, 134938, 293539, 153894, 424507, 347416, 368077, 300487, 232698, 286240, 275724, 218433, 551316, 92264, 39521, 259698, 34678, 349986, 308166, 326979, 26698, 503456, 206944, 130065, 82833, 233057, 507699, 157368, 336162, 232898, 277829, 463433, 285098, 425514, 177576, 337780, 165659, 561540, 475421, 147062, 266029, 70446, 331385, 373796, 150565, 169958, 510410, 354657, 564091, 475563, 32447, 301360, 116009, 175739, 476865, 8019, 572133, 61882, 280320, 320030, 429202, 36989, 42799, 282995, 329628, 410603, 491824, 473854, 533431, 450854, 152266, 68461, 556132, 300924, 7267, 5835, 80350, 499374, 193607, 540528, 62071, 187075, 388695, 237690, 288112, 173348, 16379, 270986, 524030, 123484, 123091, 462695, 416704, 281538, 282751, 85491, 561255, 564390, 505341, 400145, 179149, 419562, 506444, 97286, 549404, 116882, 428839, 294669, 120220, 340915, 536390, 491770, 10880, 423576, 376153, 137259, 272633, 38982, 31471, 400560, 111291, 413885, 273380, 195344, 167464, 335736, 349695, 291849, 523893, 15773, 518856, 537893, 442185, 89940, 283711, 560580, 506052, 130935, 492490, 88681, 299824, 4705, 459686, 448860, 379256, 362931, 347066, 254801, 176019, 306566, 216867, 172517, 236771, 434001, 223379, 114592, 486819, 277916, 371192, 177024, 84823, 158216, 452299, 345720, 210950, 388196, 450706, 454396, 558331, 288016, 184115, 240545, 198621, 265958, 156871, 212504, 8100, 422489, 170411, 359984, 431169, 19102, 456297, 208566, 114695, 19095, 342924, 14897, 48345, 347869, 83219, 144709, 128703, 227017, 80272, 375883, 280032, 571850, 180344, 249443, 484365, 88645, 174359, 352833, 191156, 525141, 296430, 288487, 50297, 363011, 406785, 280167, 448459, 395573, 173382, 569204, 387289, 305482, 227410, 212016, 567100, 211377, 117767, 314506, 559786, 416942, 332368, 168349, 39611, 111413, 295930, 30724, 84519, 26458, 187800, 338939, 443648, 573911, 387926, 362338, 517551, 495715, 68303, 469437, 110047, 315539, 311525, 203230, 490365, 526171, 207269, 5063, 450856, 218249, 27655, 114436, 212983, 94888, 319872, 90466, 118353, 266439, 506859, 211725, 292398, 52472, 421944, 439995, 542227, 542694, 500112, 358753, 44866, 438458, 113654, 40733, 254245, 348117, 154910, 368838, 103616, 530304, 232543, 146992, 71231, 170197, 128269, 522418, 90147, 434759, 222906, 562467, 131747, 155786, 199967, 444052, 196939, 89907, 290468, 557670, 224507, 289665, 450365, 109289, 515782, 180298, 44412, 301112, 413703, 551705, 109405, 477696, 560091, 381172, 61054, 555272, 220682, 480164, 279610, 368126, 93993, 349721, 478520, 218756, 530467, 346602, 421173, 130046, 122732, 199476, 19215, 158319, 294168, 366947, 498808, 100527, 15887, 321921, 248512, 368760, 165814, 106685, 261689, 487862, 375949, 7500, 452431, 166613, 422589, 255886, 20710, 119416, 475837, 301514, 384428, 233577, 335059, 5840, 361387, 391787, 414981, 174615, 320116, 363811, 413766, 550592, 474685, 290929, 60908, 330064, 187872, 48440, 410520, 207875, 9958, 366672, 99345, 426059, 209276, 157687, 570741, 1987, 275757, 529653, 528609, 360558, 332979, 491837, 554677, 434663, 326665, 512662, 16658, 281394, 455244, 156895, 455563, 446817, 88094, 259324, 405630, 140543, 204244, 5205, 144809, 236967, 514953, 253986, 554898, 102441, 439276, 516927, 41989, 543820, 522077, 177128, 512941, 431775, 488728, 132154, 366817, 68980, 239452, 73653, 521257, 87748, 366371, 451161, 328660, 568727, 35558, 141524, 54741, 207897, 548033, 305369, 190667, 303350, 3236, 128678, 80985, 109185, 209555, 565869, 24715, 68803, 460815, 460216, 295496, 18361, 436635, 70261, 282970, 401743, 105899, 112797, 344579, 281686, 403756, 124993, 29341, 367900, 379929, 405076, 34867, 12121, 290419, 443371, 535520, 183174, 27051, 165208, 424172, 94859, 26567, 573167, 552374, 284462, 223896, 517095, 246388, 358209, 544542, 552192, 211986, 5533, 236935, 378387, 43807, 200158, 83888, 518805, 13887, 477966, 393513, 421186, 541799, 68640, 417716, 235464, 383970, 389987, 42051, 119469, 435588, 475535, 232908, 561075, 450627, 336470, 106889, 474408, 215191, 537457, 431479, 392074, 464705, 13750, 376098, 104148, 163021, 190630, 331350, 174537, 159082, 314195, 458029, 436762, 489189, 492420, 485932, 10791, 418294, 391274, 235416, 475565, 229504, 55201, 515652, 506144, 280164, 97632, 525245, 451763, 269246, 323957, 291574, 287516, 2204, 466151, 518001, 93421, 281009, 314476, 145524, 329526, 526551, 504274, 381102, 38248, 302794, 354644, 180040, 291302, 10809, 474971, 454819, 299941, 313278, 194128, 157250, 89581, 112682, 208172, 167249, 35482, 280112, 78270, 549024, 360465, 525392, 191987, 335978, 412865, 315775, 278581, 149612, 221689, 546334, 285167, 149414, 525378, 553137, 367355, 554378, 418014, 351667, 117364, 333749, 233091, 466962, 213654, 176640, 559194, 496951, 248603, 198033, 211329, 373824, 174085, 452299, 348826, 340272, 23989, 83066, 464805, 391075, 87727, 570317, 330925, 310942, 572742, 359813, 367302, 412228, 379813, 372824, 125441, 473212, 242651, 278395, 286439, 235988, 271087, 305647, 490253, 259708, 162215, 495468, 334381, 211503, 547707, 240037, 394678, 323620, 117515, 190398, 526031, 478943, 189867, 176744, 298311, 393917, 142328, 446850, 159253, 437812, 506653, 465127, 137812, 79043, 111358, 316773, 445326, 295173, 132681, 122349, 503683, 547802, 558015, 346357, 106100, 407667, 279895, 106308, 544685, 306935, 361758, 554761, 125193, 349491, 469724, 33388, 208001, 378780, 539069, 231912, 131935, 312990, 80733, 28405, 476059, 61443, 191035, 61812, 76500, 351902, 125821, 89645, 196395, 433374, 368876, 566019, 511822, 525736, 123440, 71625, 358748, 202002, 538492, 467173, 383541, 411660, 178428, 296823, 542998, 31444, 175633, 309949, 521007, 136948, 546873, 457494, 531292, 288245, 50604, 273939, 8160, 355694, 523055, 208577, 484795, 538737, 137896, 264918, 54764, 523881, 322726, 159883, 418180, 389441, 61413, 476339, 160236, 199176, 306436, 171838, 128936, 390953, 308055, 401736, 81167, 285902, 479039, 73911, 453849, 98326, 236198, 268675, 497255, 377497, 389468, 203441, 111212, 359492, 359322, 523743, 559704, 240276, 26311, 173796, 356983, 177957, 369358, 558341, 123542, 23996, 254048, 383801, 441221, 513732, 408103, 485932, 191598, 96052, 397772, 93794, 422564, 540752, 71946, 463770, 205470, 424661, 137471, 158274, 293644, 126590, 50468, 224619, 532905, 517942, 118379, 375054, 204217, 101293, 551691, 158608, 42770, 183280, 542558, 389731, 364209, 442145, 402500, 338537, 137442, 149035, 561339, 319646, 205335, 429271, 295537, 417461, 103147, 402342, 246947, 124382, 253146, 341853, 521114, 276431, 391478, 536369, 332264, 59313, 417887, 246263, 114079, 539305, 422306, 128385, 67656, 545865, 248199, 445095, 110397, 454572, 236880, 338245, 79044, 193002, 253824, 80585, 57910, 26928, 446779, 542881, 194681, 19632, 208383, 247455, 499757, 299686, 134145, 335256, 163311, 235967, 373171, 3020, 392346, 361400, 117145, 437216, 347792, 329302, 434922, 427697, 527542, 68515, 218302, 318366, 213809, 85137, 5199, 139480, 310077, 77775, 37971, 282103, 450798, 365444, 131038, 240624, 346591, 340426, 113905, 435438, 146547, 226322, 354206, 149742, 193994, 490342, 343722, 63456, 424498, 324911, 340651, 105419, 442701, 168849, 237424, 322398, 496130, 118791, 494548, 397949, 142812, 274091, 454640, 425610, 335929, 98212, 49576, 134640, 374492, 475596, 128892, 201797, 549765, 108086, 154752, 435132, 317759, 312330, 368558, 292110, 548932, 495912, 4182, 176921, 380204, 191372, 188452, 233361, 512713, 500549, 185164, 419791, 411651, 270455, 269032, 452178, 197109, 338795, 136307, 259238, 450462, 251595, 120103, 265217, 184280, 56941, 51600, 6202, 277512, 528084, 77341, 167942, 687, 264575, 62204, 288021, 25762, 452675, 358615, 118502, 221264, 448228, 213906, 555520, 180048, 211918, 120940, 277893, 413903, 241559, 392767, 228739, 100621, 275597, 419601, 511615, 393639, 102077, 335981, 270496, 259353, 321164, 211074, 21744, 44168, 402446, 104715, 229433, 283975, 440803, 265650, 521893, 57696, 420617, 389318, 26218, 122444, 282948, 197361, 551177, 162330, 79753, 82993, 501953, 142353, 547148, 265655, 23533, 493164, 416168, 404636, 514313, 402641, 394471, 294741, 538896, 154037, 341558, 162849, 176036, 27113, 543090, 496215, 231835, 15675, 90273, 561688, 277704, 42298, 428547, 484904, 220494, 441161, 154092, 495033, 435309, 317124, 332969, 406846, 404512, 199264, 283293, 77157, 246063, 210714, 512750, 383450, 382418, 236524, 498425, 503056, 165923, 46284, 69749, 389392, 383235, 428179, 46092, 143778, 132154, 58742, 235448, 438106, 101828, 301160, 407690, 192787, 206930, 367998, 28556, 87516, 65256, 494203, 261634, 80263, 11995, 333479, 389365, 449127, 430872, 138640, 187533, 222162, 316880, 427798, 524555, 8261, 501654, 390328, 549195, 350449, 435634, 499898, 211568, 220578, 437914, 561359, 225055, 396331, 170940, 362949, 318740, 420039, 261622, 508292, 379039, 124527, 513103, 250975, 280504, 201643, 339629, 130251, 479634, 52374, 144929, 512009, 98445, 140337, 424685, 507870, 86054, 453112, 187741, 228325, 43590, 392085, 350696, 90440, 559812, 46596, 40478, 43528, 44909, 39065, 519313, 416490, 204821, 380656, 274064, 531049, 542541, 109172, 437403, 272104, 377768, 288867, 315484, 417275, 137183, 551543, 351579, 475044, 257697, 226469, 276694, 383410, 120174, 61369, 555566, 397549, 355660, 83154, 564781, 350920, 341306, 138799, 378852, 232499, 184302, 94091, 112736, 406297, 233046, 428326, 463340, 51293, 149406, 68084, 523621, 203213, 37833, 445072, 191727, 101247, 522296, 417106, 307783, 135069, 332252, 495442, 112959, 45549, 368005, 551011, 381831, 201362, 348765, 216313, 426833, 166062, 375921, 346537, 492140, 564379, 249058, 179973, 362473, 391334, 242834, 68018, 259168, 343391, 429445, 163827, 178617, 490848, 513890, 225047, 239224, 126576, 358812, 558710, 565420, 418821, 427353, 528456, 60238, 472578, 309864, 413720, 264212, 450407, 229660, 315056, 249586, 565506, 405013, 397773, 357815, 271413, 136748, 419503, 282795, 200887, 123813, 162322, 472136, 571884, 321372, 494965, 281770, 401819, 505757, 143568, 360022, 559298, 554401, 197930, 454878, 197793, 282160, 357601, 357345, 346738, 46399, 85332, 28972, 556023, 379396, 61707, 355775, 378931, 459761, 458393, 50987, 539404, 97852, 369765, 536758, 295017, 148911, 549636, 258421, 373449, 404456, 358193, 386677, 518814, 355400, 182633, 71479, 235416, 222753, 203485, 393329, 95554, 458952, 553970, 180407, 187848, 333366, 389835, 499988, 131182, 366645, 525963, 368545, 284728, 299713, 192061, 16836, 27096, 303237, 493677, 429900, 144289, 125972, 56839, 450621, 228962, 449570, 187220, 112548, 29212, 560585, 79223, 442351, 171371, 404763, 321954, 368560, 10344, 252228, 244778, 541991, 557792, 330539, 125688, 541750, 135382, 458437, 281572, 70387, 175637, 361746, 548500, 317618, 399865, 236981, 348378, 244669, 541640, 7197, 490415, 91643, 419932, 167125, 200619, 398369, 527634, 369430, 124813, 266872, 173057, 502008, 464546, 450945, 212694, 23118, 176051, 519492, 50153, 196276, 552253, 6308, 138315, 108921, 431120, 53935, 354855, 455058, 320922, 452363, 556630, 474590, 352689, 118500, 59842, 137457, 242688, 38091, 564806, 9616, 227885, 112007, 214208, 370971, 443007, 468302, 251344, 436163, 484402, 548532, 273072, 136359, 209508, 224006, 128654, 78517, 476744, 132271, 175329, 55793, 1298, 39102, 76674, 340121, 483895, 23920, 203774, 4625, 364832, 211909, 547306, 296833, 546112, 564301, 313063, 536582, 274699, 533942, 112599, 318823, 70843, 556225, 162872, 553946, 220495, 255817, 456115, 415750, 10264, 373964, 408190, 363737, 110346, 335803, 548235, 113091, 540478, 394454, 328764, 540831, 360654, 442935, 411644, 373692, 344448, 462400, 401116, 204233, 234416, 472590, 489742, 571644, 255609, 406703, 159380, 203575, 245980, 14503, 182116, 62587, 275992, 87324, 255158, 322333, 370542, 355117, 403590, 220478, 294455, 548373, 230011, 5283, 330996, 374172, 76319, 415289, 253319, 290243, 297581, 549616, 232514, 337005, 376091, 559475, 177491, 342328, 230213, 150178, 246679, 79695, 115394, 203496, 363931, 137808, 421335, 285591, 307464, 35011, 356456, 39553, 334951, 446949, 338994, 161557, 486413, 104413, 205197, 497544, 226353, 204550, 214063, 276981, 326505, 240380, 506879, 370123, 392714, 462085, 141380, 99354, 209251, 319485, 471888, 335066, 495556, 208457, 134362, 563871, 55016, 455491, 186595, 122863, 289032, 119054, 540685, 278193, 460312, 253005, 345099, 287596, 242744, 89763, 465623, 374019, 92218, 150260, 70204, 104260, 157294, 319287, 473914, 162989, 190338, 360376, 71076, 569852, 370553, 365094, 393337, 103629, 13949, 201292, 456167, 144766, 310347, 280487, 160596, 349597, 188591, 220754, 376525, 503832, 252816, 493142, 414220, 453159, 267714, 496795, 221906, 31428, 173366, 171629, 205342, 2921, 27606, 370181, 92095, 420507, 530480, 418615, 214472, 400730, 114151, 463446, 40512, 452853, 464732, 308035, 367309, 397991, 197154, 292134, 496914, 374784, 88083, 416488, 286971, 408610, 243208, 483795, 172246, 489767, 155885, 210697, 500743, 33189, 534494, 222773, 417959, 470188, 397025, 568731, 41788, 48704, 464451, 440483, 194597, 55470, 563715, 112443, 280875, 302193, 87880, 284578, 193584, 490826, 341469, 63255, 446291, 177051, 508308, 266293, 391429, 5755, 381510, 438338, 42936, 185224, 389449, 116321, 318087, 62675, 507358, 540001, 546875, 233408, 481251, 194881, 263922, 388782, 402419, 108016, 305710, 562893, 518257, 393755, 569640, 143543, 442314, 318242, 50059, 479014, 273654, 265238, 135850, 160899, 141919, 74902, 535495, 105699, 166548, 66138, 329216, 503727, 167997, 180361, 70131, 135629, 523292, 104414, 155019, 267962, 449776, 417688, 369641, 191351, 57849, 110451, 392636, 212293, 372494, 225601, 225578, 454287, 503807, 271484, 278751, 395845, 117539, 545471, 415239, 445882, 343117, 257283, 216961, 423272, 389150, 422449, 11434, 488291, 67380, 93729, 403099, 342528, 126653, 69617, 128492, 231559, 340791, 424875, 350768, 388467, 493699, 519969, 476541, 496725, 279611, 163209, 98941, 50899, 363736, 38722, 306550, 257722, 423650, 197059, 107412, 375286, 319337, 552672, 516358, 81817, 528171, 188037, 141848, 351944, 470804, 133295, 204096, 408015, 343940, 430484, 107813, 193864, 150930, 211610, 486149, 19962, 34032, 530600, 370894, 531910, 104918, 300070, 357163, 383943, 229040, 8142, 359778, 92216, 459210, 406010, 534498, 329458, 458210, 390205, 414221, 451003, 235661, 355928, 171003, 151459, 550577, 548763, 348263, 281467, 348118, 354009, 423572, 36930, 308696, 423128, 190362, 235929, 568529, 495265, 172688, 58237, 343924, 179953, 174127, 363906, 27533, 113369, 230694, 80150, 185036, 70701, 496689, 311067, 469574, 386846, 183300, 234500, 126108, 64443, 409391, 320143, 424401, 333674, 247644, 200930, 360926, 34838, 266621, 184298, 279187, 176668, 374299, 297384, 32541, 67345, 143582, 572589, 397568, 315721, 283111, 270862, 438883, 138166, 205785, 410299, 101415, 151561, 527631, 470039, 223270, 373957, 556583, 150059, 505107, 447815, 130681, 195924, 419080, 220648, 378080, 490315, 542726, 191841, 572747, 8506, 553778, 291627, 290678, 472367, 389468, 398621, 517731, 190827, 236956, 287906, 185619, 265636, 88255, 459164, 468052, 324343, 509939, 239843, 469031, 55790, 550383, 374108, 538888, 373059, 153772, 94301, 109908, 364661, 515126, 424797, 386856, 453433, 330949, 290944, 149255, 525297, 207493, 392508, 220791, 146197, 387324, 274909, 517592, 381552, 167202, 461211, 510715, 571382, 280290, 419121, 361650, 427645, 307758, 227691, 542226, 216584, 503113, 358053, 301659, 530135, 359345, 107770, 49439, 139036, 209393, 139983, 248769, 111730, 305971, 441235, 102839, 51943, 251277, 347860, 266638, 60383, 304228, 327849, 101387, 274433, 546803, 332170, 54131, 361429, 568289, 243214, 97142, 223467, 297246, 501324, 351, 441048, 15391, 420275, 42636, 416367, 163837, 401803, 445908, 271978, 493387, 110908, 25100, 291271, 557355, 246287, 102027, 267229, 304133, 371984, 128605, 512697, 34253, 564415, 95261, 137990, 556847, 38740, 226095, 488139, 129275, 568516, 462163, 131075, 29907, 460213, 93295, 338836, 404968, 444237, 428067, 77826, 296090, 544868, 514857, 300429, 475483, 272488, 49600, 9547, 494670, 421185, 399032, 165890, 504492, 322800, 253745, 515217, 168535, 341345, 72382, 333405, 387197, 315317, 249807, 220820, 390578, 343065, 507078, 487150, 419192, 452565, 370883, 40212, 193387, 285761, 369011, 283502, 161874, 465102, 68515, 563714, 494717, 66610, 267814, 173353, 571391, 466974, 210419, 232117, 189416, 2508, 396998, 9639, 470392, 43914, 126577, 40765, 187489, 332878, 316024, 270267, 307102, 568828, 354804, 531184, 108254, 418727, 3083, 160168, 92982, 563462, 551064, 261066, 345368, 331678, 205867, 404747, 110396, 351592, 246770, 486121, 123877, 342949, 364877, 114916, 76711, 24301, 76020, 371504, 294471, 399945, 83779, 511387, 512918, 14902, 270568, 170204, 478750, 527357, 257425, 93667, 550329, 97407, 534839, 468895, 228699, 165572, 64312, 561457, 223346, 292778, 268564, 282750, 188709, 360045, 414507, 138388, 5948, 172571, 232223, 384661, 446922, 199924, 168433, 155882, 484533, 200387, 479899, 502749, 10994, 333454, 420883, 28872, 204262, 179017, 176439, 562973, 51653, 555276, 118369, 381226, 341254, 555866, 116571, 534678, 120797, 161828, 426226, 288053, 323776, 62430, 43853, 511502, 239962, 118535, 83903, 285853, 461676, 113931, 4821, 536496, 342914, 353352, 301144, 408957, 569016, 477557, 497077, 174631, 532678, 285289, 189336, 156576, 193890, 553810, 84899, 514667, 565088, 484879, 334412, 46859, 209451, 11138, 99322, 376338, 521048, 237205, 520808, 28766, 560392, 312110, 122669, 513596, 428931, 39058, 488738, 568492, 322988, 78291, 53270, 321101, 70146, 116520, 194786, 286861, 317369, 252614, 281422, 449614, 162386, 405530, 160287, 297194, 50957, 228814, 276173, 5328, 572333, 57663, 336130, 19347, 258015, 157002, 429866, 23370, 532279, 117728, 444850, 170355, 464484, 434761, 176980, 247640, 152385, 44760, 193753, 189484, 379490, 347600, 98678, 111235, 319509, 267079, 376911, 507061, 538484, 546591, 422638, 37482, 420074, 47750, 162169, 17082, 166614, 290321, 536941, 193783, 98982, 149098, 206760, 269831, 521948, 76362, 84807, 67777, 231344, 538364, 75069, 43019, 516688, 258402, 447631, 343662, 418302, 83139, 188728, 90504, 429553, 218086, 37100, 18893, 201466, 36612, 217749, 791, 314439, 361377, 256861, 544603, 211334, 162123, 7243, 130393, 146153, 284049, 398549, 314573, 88122, 72102, 14089, 551902, 479986, 307557, 8078, 528245, 40883, 200358, 217831, 450398, 292259, 157229, 258940, 61841, 299820, 95475, 203929, 367734, 121017, 216637, 275705, 231116, 456520, 527402, 98213, 171939, 204153, 339228, 306230, 339092, 394923, 261033, 380516, 23464, 30764, 72712, 90244, 200548, 269434, 504215, 193176, 222301, 128293, 421920, 473555, 342582, 174874, 364040, 7702, 127478, 44125, 113620, 149868, 267735, 160559, 249289, 371183, 364680, 511674, 565479, 283881, 421350, 187337, 481098, 477419, 413822, 422872, 122104, 64297, 327415, 344697, 540769, 18814, 528840, 248374, 151535, 338032, 299745, 476989, 379549, 214676, 279219, 150529, 181440, 499205, 327450, 58056, 572187, 253225, 392162, 46695, 537212, 553879, 508680, 64515, 277799, 505830, 92018, 265511, 434354, 50686, 313610, 367905]\n",
      "tensor([False, False, False,  ..., False, False, False])\n",
      "start\n",
      "{'tn': 574338}\n",
      "set every node in gt to fn\n",
      "{'fn': 25049, 'tn': 549289}\n"
     ]
    },
    {
     "name": "stderr",
     "output_type": "stream",
     "text": [
      "100%|██████████| 3315/3315 [00:00<00:00, 8535.91it/s]\n"
     ]
    },
    {
     "name": "stdout",
     "output_type": "stream",
     "text": [
      "{'fn': 24894, 'fp': 14, 'tn': 549275, 'tp': 155}\n",
      "574338\n",
      "155 14 549275 24894\n",
      "TP: 155, FP: 14, TN: 549275, FN: 24894\n",
      "Precision:  0.9171597633130668\n",
      "Recall:  0.0061878717713281725\n",
      "F-Score:  0.012292806724023478\n",
      "Accuracy:  0.9566318091437446\n"
     ]
    }
   ],
   "source": [
    "x = len(ttp.test_data.test_mask)  # The length of the tensor\n",
    "positions_list = np.random.choice(len(ttp.test_data.x), 3323).tolist()  # List of positions to set as True\n",
    "print(positions_list)\n",
    "boolean_tensor = create_boolean_tensor(x, positions_list)\n",
    "print(boolean_tensor)\n",
    "random_hits = ttp.evaluation_no_hop(gt, boolean_tensor) "
   ]
  },
  {
   "cell_type": "code",
   "execution_count": 18,
   "metadata": {},
   "outputs": [
    {
     "name": "stdout",
     "output_type": "stream",
     "text": [
      "{'tn': 574338}\n",
      "start\n",
      "{'tn': 574338}\n",
      "set every node in gt to fn\n",
      "{'fn': 25049, 'tn': 549289}\n",
      "gt\n",
      "{'fn': 25049, 'tn': 549289}\n"
     ]
    },
    {
     "name": "stderr",
     "output_type": "stream",
     "text": [
      "100%|██████████| 3315/3315 [00:29<00:00, 110.67it/s]\n"
     ]
    },
    {
     "name": "stdout",
     "output_type": "stream",
     "text": [
      "{'fn': 24660, 'fp': 1, 'tn': 549288, 'tp': 389}\n",
      "Intersection Counter: 438\n",
      "574338\n",
      "389 1 549288 24660\n",
      "TP: 389, FP: 1, TN: 549288, FN: 24660\n",
      "Precision:  0.9974358974356418\n",
      "Recall:  0.015529562058365542\n",
      "F-Score:  0.030582963163771754\n",
      "Accuracy:  0.9570618694914841\n"
     ]
    }
   ],
   "source": [
    "hits = ttp.evaluation(gt, hits=boolean_tensor,num_hops=1)"
   ]
  },
  {
   "cell_type": "code",
   "execution_count": 19,
   "metadata": {},
   "outputs": [
    {
     "name": "stdout",
     "output_type": "stream",
     "text": [
      "[427937, 570121, 235256, 283441, 10332, 562334, 64202, 492326, 446734, 324474, 2643, 251, 163644, 517507, 154408, 95202, 283650, 408183, 371060, 264026, 535832, 252774, 156132, 442543, 106587, 309072, 375952, 348862, 173437, 463760, 401068, 539150, 31071, 7974, 281487, 344305, 413700, 445257, 54866, 247387, 45095, 475077, 176423, 160079, 412285, 341114, 338313, 92474, 149909, 441730, 328777, 89212, 214344, 125902, 370228, 11409, 132833, 571800, 126530, 450785, 216233, 143596, 69853, 236230, 462588, 184122, 298683, 140257, 265911, 63892, 519718, 426382, 284158, 74534, 59466, 330920, 520517, 37367, 103834, 17754, 169435, 111874, 188533, 394674, 90801, 204318, 409705, 138205, 385053, 285558, 187045, 323130, 394166, 284504, 68943, 104335, 16168, 52200, 156113, 73997, 105373, 104372, 519108, 175204, 41920, 220334, 442744, 74338, 27238, 261409, 37130, 407747, 568987]\n",
      "tensor([False, False, False,  ..., False, False, False])\n",
      "{'tn': 574338}\n",
      "start\n",
      "{'tn': 574338}\n",
      "set every node in gt to fn\n",
      "{'fn': 25049, 'tn': 549289}\n",
      "gt\n",
      "{'fn': 25049, 'tn': 549289}\n"
     ]
    },
    {
     "name": "stderr",
     "output_type": "stream",
     "text": [
      "100%|██████████| 113/113 [00:06<00:00, 16.80it/s]\n"
     ]
    },
    {
     "name": "stdout",
     "output_type": "stream",
     "text": [
      "{'fn': 6503, 'tn': 549289, 'tp': 18546}\n",
      "Intersection Counter: 113\n",
      "574338\n",
      "18546 0 549289 6503\n",
      "TP: 18546, FP: 0, TN: 549289, FN: 6503\n",
      "Precision:  0.9999999999999947\n",
      "Recall:  0.7403888378777567\n",
      "F-Score:  0.8508315173269544\n",
      "Accuracy:  0.988677399022875\n"
     ]
    }
   ],
   "source": [
    "x = len(ttp.test_data.test_mask)  # The length of the tensor\n",
    "positions_list = np.random.choice(len(ttp.test_data.x), 113).tolist()  # List of positions to set as True\n",
    "print(positions_list)\n",
    "boolean_tensor = create_boolean_tensor(x, positions_list)\n",
    "print(boolean_tensor)\n",
    "random_hits = ttp.evaluation(gt, boolean_tensor) \n",
    "\n",
    "# Accuracy:  0.9999947765949667\n",
    "# TP: 18437, FP: 0, TN: 549289, FN: 6612\n",
    "# Precision:  0.9999999999999947\n",
    "# Recall:  0.7360373667611453\n",
    "# F-Score:  0.8479510646616337\n",
    "# Accuracy:  0.9884876153066661"
   ]
  },
  {
   "cell_type": "code",
   "execution_count": 20,
   "metadata": {},
   "outputs": [],
   "source": [
    "# hit_neighbor_count_list = []\n",
    "# for i in tqdm(range(ttp.test_data.num_nodes)):\n",
    "#     i_as_list = [i]\n",
    "#     hit_neighbors, edge_index, mapping, edge_mask = k_hop_subgraph(i_as_list, num_hops=2, edge_index=ttp.test_data_undirected_edge_index)\n",
    "#     hit_neighbor_count_list.append(len(hit_neighbors))\n",
    "# print('Average number of hit neighbors: ', np.mean(hit_neighbor_count_list))\n",
    "# print('Max number of hit neighbors: ', np.max(hit_neighbor_count_list))\n",
    "# print('Min number of hit neighbors: ', np.min(hit_neighbor_count_list))\n",
    "\n",
    "\n",
    "\n",
    "# 100%|██████████| 574338/574338 [25:11:59<00:00,  6.33it/s]        \n",
    "# Average number of hit neighbors:  225559.81589760733\n",
    "# Max number of hit neighbors:  428045\n",
    "# Min number of hit neighbors:  1"
   ]
  },
  {
   "cell_type": "markdown",
   "metadata": {},
   "source": []
  },
  {
   "cell_type": "code",
   "execution_count": 21,
   "metadata": {},
   "outputs": [],
   "source": [
    "# # save list hit_neighbor_count_list to file \n",
    "# with open('hit_neighbor_count_list_sorted.txt', 'w') as filehandle:\n",
    "#     for listitem in hit_neighbor_count_list:\n",
    "#         filehandle.write('%s\\n' % listitem)d"
   ]
  },
  {
   "cell_type": "code",
   "execution_count": 22,
   "metadata": {},
   "outputs": [],
   "source": [
    "# #sort list hit_neighbor_count_list high to low\n",
    "# hit_neighbor_count_list.sort(reverse=True)"
   ]
  },
  {
   "cell_type": "code",
   "execution_count": 23,
   "metadata": {},
   "outputs": [
    {
     "data": {
      "text/plain": [
       "574338"
      ]
     },
     "execution_count": 23,
     "metadata": {},
     "output_type": "execute_result"
    }
   ],
   "source": [
    "len(ttp.test_data.x)"
   ]
  },
  {
   "cell_type": "markdown",
   "metadata": {},
   "source": []
  },
  {
   "cell_type": "code",
   "execution_count": 24,
   "metadata": {},
   "outputs": [
    {
     "data": {
      "image/png": "[encoded data removed]",
      "text/plain": [
       "<Figure size 864x432 with 1 Axes>"
      ]
     },
     "metadata": {
      "needs_background": "light"
     },
     "output_type": "display_data"
    }
   ],
   "source": [
    "import matplotlib.pyplot as plt\n",
    "\n",
    "# Assuming you have an array with neighbor count for each node\n",
    "# Replace 'neighbor_count_array' with your actual data\n",
    "# For demonstration, I'll create a random array of neighbor counts\n",
    "np.random.seed(42)\n",
    "neighbor_count_array = np.random.randint(0, 100, size=1000)\n",
    "\n",
    "# Get the indices of the top 500 nodes based on neighbor count\n",
    "top_500_nodes_indices = np.argsort(neighbor_count_array)[-500:][::-1]\n",
    "\n",
    "# Get the neighbor count values for the top 500 nodes\n",
    "top_500_neighbor_count = neighbor_count_array[top_500_nodes_indices]\n",
    "\n",
    "# Plot the neighbor count for the top 500 nodes\n",
    "plt.figure(figsize=(12, 6))\n",
    "plt.bar(range(1, 501), top_500_neighbor_count)\n",
    "plt.xlabel('Node Index (Top 500 Nodes)')\n",
    "plt.ylabel('Neighbor Count')\n",
    "plt.title('Neighbor Count for Top 500 Nodes')\n",
    "plt.grid(axis='y')\n",
    "plt.show()"
   ]
  }
 ],
 "metadata": {
  "kernelspec": {
   "display_name": "pyg",
   "language": "python",
   "name": "python3"
  },
  "language_info": {
   "codemirror_mode": {
    "name": "ipython",
    "version": 3
   },
   "file_extension": ".py",
   "mimetype": "text/x-python",
   "name": "python",
   "nbconvert_exporter": "python",
   "pygments_lexer": "ipython3",
   "version": "3.11.4"
  },
  "orig_nbformat": 4
 },
 "nbformat": 4,
 "nbformat_minor": 2
}
